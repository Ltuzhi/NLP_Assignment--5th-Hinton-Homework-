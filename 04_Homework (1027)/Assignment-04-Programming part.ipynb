{
 "cells": [
  {
   "cell_type": "markdown",
   "metadata": {},
   "source": [
    "# Assignment 4 - Programming part（编程部分）"
   ]
  },
  {
   "cell_type": "markdown",
   "metadata": {},
   "source": [
    "### 3.实践题"
   ]
  },
  {
   "cell_type": "markdown",
   "metadata": {},
   "source": [
    "#### In this practical part, you will build a simple digits recognizer to check if the digit in the image is larger than 5. This assignmnet will guide you step by step to finish your first small project in this course ."
   ]
  },
  {
   "cell_type": "markdown",
   "metadata": {},
   "source": [
    "#### 1 - Packages  \n",
    "sklearn is a famous package for machine learning.   \n",
    "matplotlib is a common package for vasualization."
   ]
  },
  {
   "cell_type": "code",
   "execution_count": 1,
   "metadata": {},
   "outputs": [],
   "source": [
    "from sklearn import datasets # 载入 sklearn 自带的数据集\n",
    "import matplotlib.pyplot as plt\n",
    "from sklearn.model_selection import train_test_split"
   ]
  },
  {
   "cell_type": "markdown",
   "metadata": {},
   "source": [
    "#### 2 - Overvie of the dataset  （查看数据集）\n",
    "    - a training set has m_train images labeled as 0 if the digit < 5 or 1 if the digit >= 5 \n",
    "        （训练集：小于5的图片标为 0，大于5的图片标为 1）\n",
    "    - a test set contains m_test images labels as if the digit < 5 or 1 if the digit >= 5\n",
    "        （测试集：标记图片，小于5标为 0，大于5标为 1）\n",
    "    - each image if of shape (num_px, num_px ). Thus, each image is square(height=num_px and  width = num_px)\n",
    "        （每张图片为一个方阵，长和宽的像素点相同）"
   ]
  },
  {
   "cell_type": "code",
   "execution_count": 2,
   "metadata": {},
   "outputs": [],
   "source": [
    "# Loading the data （导入手写字体数据集）\n",
    "digits = datasets.load_digits()"
   ]
  },
  {
   "cell_type": "code",
   "execution_count": 3,
   "metadata": {},
   "outputs": [
    {
     "name": "stdout",
     "output_type": "stream",
     "text": [
      "dict_keys(['data', 'target', 'target_names', 'images', 'DESCR'])\n"
     ]
    }
   ],
   "source": [
    "# 查看数据类型\n",
    "print(digits.keys())"
   ]
  },
  {
   "cell_type": "code",
   "execution_count": 4,
   "metadata": {},
   "outputs": [
    {
     "data": {
      "image/png": "[encoded data removed]",
      "text/plain": [
       "<Figure size 432x288 with 10 Axes>"
      ]
     },
     "metadata": {},
     "output_type": "display_data"
    }
   ],
   "source": [
    "# Vilizating the data 数据可视化\n",
    "for i in range(1,11):\n",
    "    plt.subplot(2,5,i) # 画 2 行 5 列的图\n",
    "    plt.imshow(digits.data[i-1].reshape([8,8]),cmap=plt.cm.gray_r)\n",
    "    plt.text(3,10,str(digits.target[i-1])) #在图片的对应位置添加文本 0~9\n",
    "    plt.xticks([]) #设置坐标轴显示的刻度值\n",
    "    plt.yticks([])\n",
    "plt.show()"
   ]
  },
  {
   "cell_type": "code",
   "execution_count": 5,
   "metadata": {},
   "outputs": [],
   "source": [
    "# Split the data into training set and test set  划分训练集和测试集 测试集为数据集的 25%\n",
    "X_train, X_test, y_train, y_test = train_test_split(digits.data, digits.target, test_size=0.25)"
   ]
  },
  {
   "cell_type": "code",
   "execution_count": 6,
   "metadata": {},
   "outputs": [
    {
     "data": {
      "text/plain": [
       "array([[ 0.,  0.,  4., ...,  1.,  0.,  0.],\n",
       "       [ 0.,  0., 10., ...,  7.,  0.,  0.],\n",
       "       [ 0.,  0.,  2., ..., 12., 13.,  8.],\n",
       "       ...,\n",
       "       [ 0.,  0., 13., ...,  0.,  0.,  0.],\n",
       "       [ 0.,  0.,  0., ...,  1.,  0.,  0.],\n",
       "       [ 0.,  0.,  2., ...,  0.,  0.,  0.]])"
      ]
     },
     "execution_count": 6,
     "metadata": {},
     "output_type": "execute_result"
    }
   ],
   "source": [
    "X_train # 每一行代表一张图 8*8 的像素点"
   ]
  },
  {
   "cell_type": "code",
   "execution_count": 7,
   "metadata": {},
   "outputs": [
    {
     "data": {
      "text/plain": [
       "array([5, 0, 1, ..., 5, 7, 7])"
      ]
     },
     "execution_count": 7,
     "metadata": {},
     "output_type": "execute_result"
    }
   ],
   "source": [
    "y_train"
   ]
  },
  {
   "cell_type": "code",
   "execution_count": 8,
   "metadata": {},
   "outputs": [
    {
     "data": {
      "text/plain": [
       "array([4, 6, 5, 1, 7, 0, 2, 0, 9, 9, 1, 1, 0, 5, 6, 3, 3, 0, 3, 7, 8, 0,\n",
       "       7, 6, 2, 4, 6, 6, 0, 2, 3, 5, 6, 3, 5, 3, 4, 4, 1, 2, 5, 8, 3, 3,\n",
       "       9, 4, 7, 0, 1, 4, 4, 1, 5, 3, 6, 1, 6, 8, 9, 6, 6, 1, 6, 2, 8, 3,\n",
       "       0, 3, 2, 2, 0, 1, 2, 1, 7, 4, 4, 9, 5, 5, 0, 7, 0, 1, 2, 9, 1, 3,\n",
       "       9, 2, 0, 8, 3, 5, 9, 5, 2, 4, 0, 4, 3, 0, 9, 9, 3, 2, 2, 3, 3, 5,\n",
       "       7, 2, 9, 7, 4, 8, 9, 1, 9, 4, 4, 8, 8, 3, 6, 4, 7, 1, 9, 3, 4, 1,\n",
       "       0, 9, 6, 0, 7, 6, 8, 3, 3, 3, 5, 2, 6, 0, 0, 7, 2, 0, 4, 9, 1, 7,\n",
       "       5, 4, 5, 3, 3, 0, 9, 5, 2, 6, 3, 5, 2, 6, 5, 4, 2, 9, 1, 3, 3, 0,\n",
       "       9, 5, 8, 6, 8, 8, 4, 3, 4, 3, 6, 3, 8, 3, 5, 4, 0, 3, 0, 6, 4, 3,\n",
       "       9, 0, 7, 6, 1, 0, 0, 1, 1, 5, 4, 8, 0, 3, 8, 1, 8, 6, 7, 9, 3, 6,\n",
       "       4, 2, 4, 4, 4, 0, 3, 3, 0, 5, 1, 6, 9, 2, 1, 6, 1, 2, 7, 8, 8, 9,\n",
       "       4, 5, 5, 2, 5, 1, 5, 9, 2, 9, 5, 0, 3, 1, 6, 8, 4, 0, 5, 4, 3, 4,\n",
       "       5, 0, 5, 7, 2, 9, 3, 8, 1, 1, 1, 6, 6, 5, 7, 5, 1, 8, 6, 3, 4, 6,\n",
       "       1, 1, 5, 9, 9, 9, 4, 6, 1, 4, 5, 6, 4, 3, 4, 8, 9, 4, 9, 3, 8, 4,\n",
       "       7, 6, 6, 9, 6, 3, 9, 6, 0, 3, 9, 0, 9, 3, 7, 6, 1, 0, 9, 4, 7, 8,\n",
       "       3, 2, 5, 2, 0, 3, 2, 8, 7, 7, 3, 2, 2, 4, 7, 1, 0, 1, 0, 8, 9, 0,\n",
       "       1, 6, 9, 9, 4, 3, 8, 6, 9, 3, 6, 7, 2, 5, 6, 1, 9, 2, 2, 4, 3, 6,\n",
       "       4, 3, 6, 6, 4, 3, 8, 1, 5, 2, 6, 8, 4, 2, 9, 1, 8, 6, 8, 7, 5, 6,\n",
       "       4, 6, 0, 7, 2, 1, 3, 2, 9, 0, 8, 7, 1, 1, 2, 0, 8, 6, 8, 4, 7, 3,\n",
       "       7, 3, 6, 1, 0, 8, 0, 2, 0, 1, 4, 0, 9, 2, 1, 6, 0, 1, 1, 0, 7, 6,\n",
       "       7, 9, 9, 8, 5, 2, 4, 6, 1, 1])"
      ]
     },
     "execution_count": 8,
     "metadata": {},
     "output_type": "execute_result"
    }
   ],
   "source": [
    "y_test"
   ]
  },
  {
   "cell_type": "code",
   "execution_count": 9,
   "metadata": {},
   "outputs": [],
   "source": [
    "# reformulate the label. 设置标签\n",
    "# If the digit is smaller than 5, the label is 0.\n",
    "# If the digit is larger than 5, the label is 1.\n",
    "\n",
    "y_train[y_train < 5 ] = 0\n",
    "y_train[y_train >= 5] = 1\n",
    "y_test[y_test < 5] = 0\n",
    "y_test[y_test >= 5] = 1"
   ]
  },
  {
   "cell_type": "code",
   "execution_count": 10,
   "metadata": {},
   "outputs": [
    {
     "data": {
      "text/plain": [
       "array([1, 0, 0, ..., 1, 1, 1])"
      ]
     },
     "execution_count": 10,
     "metadata": {},
     "output_type": "execute_result"
    }
   ],
   "source": [
    "y_train"
   ]
  },
  {
   "cell_type": "code",
   "execution_count": 11,
   "metadata": {},
   "outputs": [
    {
     "data": {
      "text/plain": [
       "array([0, 1, 1, 0, 1, 0, 0, 0, 1, 1, 0, 0, 0, 1, 1, 0, 0, 0, 0, 1, 1, 0,\n",
       "       1, 1, 0, 0, 1, 1, 0, 0, 0, 1, 1, 0, 1, 0, 0, 0, 0, 0, 1, 1, 0, 0,\n",
       "       1, 0, 1, 0, 0, 0, 0, 0, 1, 0, 1, 0, 1, 1, 1, 1, 1, 0, 1, 0, 1, 0,\n",
       "       0, 0, 0, 0, 0, 0, 0, 0, 1, 0, 0, 1, 1, 1, 0, 1, 0, 0, 0, 1, 0, 0,\n",
       "       1, 0, 0, 1, 0, 1, 1, 1, 0, 0, 0, 0, 0, 0, 1, 1, 0, 0, 0, 0, 0, 1,\n",
       "       1, 0, 1, 1, 0, 1, 1, 0, 1, 0, 0, 1, 1, 0, 1, 0, 1, 0, 1, 0, 0, 0,\n",
       "       0, 1, 1, 0, 1, 1, 1, 0, 0, 0, 1, 0, 1, 0, 0, 1, 0, 0, 0, 1, 0, 1,\n",
       "       1, 0, 1, 0, 0, 0, 1, 1, 0, 1, 0, 1, 0, 1, 1, 0, 0, 1, 0, 0, 0, 0,\n",
       "       1, 1, 1, 1, 1, 1, 0, 0, 0, 0, 1, 0, 1, 0, 1, 0, 0, 0, 0, 1, 0, 0,\n",
       "       1, 0, 1, 1, 0, 0, 0, 0, 0, 1, 0, 1, 0, 0, 1, 0, 1, 1, 1, 1, 0, 1,\n",
       "       0, 0, 0, 0, 0, 0, 0, 0, 0, 1, 0, 1, 1, 0, 0, 1, 0, 0, 1, 1, 1, 1,\n",
       "       0, 1, 1, 0, 1, 0, 1, 1, 0, 1, 1, 0, 0, 0, 1, 1, 0, 0, 1, 0, 0, 0,\n",
       "       1, 0, 1, 1, 0, 1, 0, 1, 0, 0, 0, 1, 1, 1, 1, 1, 0, 1, 1, 0, 0, 1,\n",
       "       0, 0, 1, 1, 1, 1, 0, 1, 0, 0, 1, 1, 0, 0, 0, 1, 1, 0, 1, 0, 1, 0,\n",
       "       1, 1, 1, 1, 1, 0, 1, 1, 0, 0, 1, 0, 1, 0, 1, 1, 0, 0, 1, 0, 1, 1,\n",
       "       0, 0, 1, 0, 0, 0, 0, 1, 1, 1, 0, 0, 0, 0, 1, 0, 0, 0, 0, 1, 1, 0,\n",
       "       0, 1, 1, 1, 0, 0, 1, 1, 1, 0, 1, 1, 0, 1, 1, 0, 1, 0, 0, 0, 0, 1,\n",
       "       0, 0, 1, 1, 0, 0, 1, 0, 1, 0, 1, 1, 0, 0, 1, 0, 1, 1, 1, 1, 1, 1,\n",
       "       0, 1, 0, 1, 0, 0, 0, 0, 1, 0, 1, 1, 0, 0, 0, 0, 1, 1, 1, 0, 1, 0,\n",
       "       1, 0, 1, 0, 0, 1, 0, 0, 0, 0, 0, 0, 1, 0, 0, 1, 0, 0, 0, 0, 1, 1,\n",
       "       1, 1, 1, 1, 1, 0, 0, 1, 0, 0])"
      ]
     },
     "execution_count": 11,
     "metadata": {},
     "output_type": "execute_result"
    }
   ],
   "source": [
    "y_test"
   ]
  },
  {
   "cell_type": "code",
   "execution_count": 12,
   "metadata": {},
   "outputs": [
    {
     "name": "stdout",
     "output_type": "stream",
     "text": [
      "(1347, 64)\n",
      "(450, 64)\n",
      "(1347,)\n",
      "(450,)\n"
     ]
    }
   ],
   "source": [
    "# 查看训练集和测试集的大小\n",
    "print(X_train.shape)\n",
    "print(X_test.shape)\n",
    "print(y_train.shape)\n",
    "print(y_test.shape)"
   ]
  },
  {
   "cell_type": "code",
   "execution_count": 13,
   "metadata": {},
   "outputs": [
    {
     "data": {
      "text/plain": [
       "64"
      ]
     },
     "execution_count": 13,
     "metadata": {},
     "output_type": "execute_result"
    }
   ],
   "source": [
    "X_train.shape[1]"
   ]
  },
  {
   "cell_type": "code",
   "execution_count": 14,
   "metadata": {},
   "outputs": [
    {
     "data": {
      "text/plain": [
       "1347"
      ]
     },
     "execution_count": 14,
     "metadata": {},
     "output_type": "execute_result"
    }
   ],
   "source": [
    "X_train.shape[0]"
   ]
  },
  {
   "cell_type": "code",
   "execution_count": 15,
   "metadata": {},
   "outputs": [],
   "source": [
    "#y_test.transpose()\n",
    "y = y_test.reshape(450,1)"
   ]
  },
  {
   "cell_type": "code",
   "execution_count": 16,
   "metadata": {},
   "outputs": [
    {
     "data": {
      "text/plain": [
       "(450, 1)"
      ]
     },
     "execution_count": 16,
     "metadata": {},
     "output_type": "execute_result"
    }
   ],
   "source": [
    "y.shape"
   ]
  },
  {
   "cell_type": "markdown",
   "metadata": {},
   "source": [
    "#### 3- Architecture of the neural network （神经网络的结构）"
   ]
  },
  {
   "cell_type": "markdown",
   "metadata": {},
   "source": [
    "##### Mathematical expression of the algorithm:"
   ]
  },
  {
   "cell_type": "markdown",
   "metadata": {},
   "source": [
    "For one example $x^{(i)}$: \n",
    " $$ z^{(i)} = w^T * x^{(i)} +b $$   \n",
    " $$ \\hat{y}^{(i)} = a^{(i)} = sigmoid(z^{(i)})$$   \n",
    " $$L(a^{(i)},y^{(i)}) = -y^{(i)} log(a^{(i)})-(1-y^{(i)})log(1-a^{(i)})$$\n",
    " 输入值 x -> 线性变化后 z -> 非线性变化后 a (预测值) -> loss function (真实值与预测值的差异)"
   ]
  },
  {
   "cell_type": "markdown",
   "metadata": {},
   "source": [
    "The total cost over all training examples:\n",
    "$$ J = \\frac{1}{m}\\sum_{i=1}^{m}L(a^{(i)},y^{(i)}) $$"
   ]
  },
  {
   "cell_type": "code",
   "execution_count": 17,
   "metadata": {},
   "outputs": [],
   "source": [
    "import numpy as np"
   ]
  },
  {
   "cell_type": "markdown",
   "metadata": {},
   "source": [
    "#### 4 - Building the algorithm （构建算法）"
   ]
  },
  {
   "cell_type": "markdown",
   "metadata": {},
   "source": [
    "##### 4.1- Activation function    \n",
    "###### Exercise:\n",
    "Finish the sigmoid funciton "
   ]
  },
  {
   "cell_type": "code",
   "execution_count": 18,
   "metadata": {},
   "outputs": [],
   "source": [
    "def sigmoid(z):\n",
    "    '''\n",
    "    Compute the sigmoid of z\n",
    "    Arguments: z -- a scalar or numpy array of any size.\n",
    "    \n",
    "    Return:\n",
    "    s -- sigmoid(z)\n",
    "    '''\n",
    "    s = 1./(1 + np.exp(-1 * z))\n",
    "    \n",
    "    return s"
   ]
  },
  {
   "cell_type": "code",
   "execution_count": 19,
   "metadata": {},
   "outputs": [
    {
     "name": "stdout",
     "output_type": "stream",
     "text": [
      "sigmoid([0,2]) = [0.5        0.88079708]\n"
     ]
    }
   ],
   "source": [
    "# Test your code \n",
    "# The result should be [0.5 0.88079708]\n",
    "print(\"sigmoid([0,2]) = \" + str(sigmoid(np.array([0,2]))))"
   ]
  },
  {
   "cell_type": "markdown",
   "metadata": {},
   "source": [
    "##### 4.1-Initializaing parameters\n",
    "###### Exercise:\n",
    "Finish the initialize_parameters function below"
   ]
  },
  {
   "cell_type": "code",
   "execution_count": 20,
   "metadata": {},
   "outputs": [],
   "source": [
    "q = np.random.randn(10, 1)"
   ]
  },
  {
   "cell_type": "code",
   "execution_count": 52,
   "metadata": {},
   "outputs": [],
   "source": [
    "# Random innitialize the parameters w and b 随机初始化参数值\n",
    "\n",
    "def initialize_parameters(dim):\n",
    "    '''\n",
    "    Argument: dim -- size of the w vector\n",
    "    \n",
    "    Returns:\n",
    "    w -- initialized vector of shape (dim,1)\n",
    "    b -- initializaed scalar\n",
    "    '''\n",
    "    \n",
    "    w = np.random.randn(dim, 1)\n",
    "    b = 0.5\n",
    "    \n",
    "    assert(w.shape == (dim,1))\n",
    "    assert(isinstance(b,float) or isinstance(b,int))\n",
    "    \n",
    "    return w,b"
   ]
  },
  {
   "cell_type": "code",
   "execution_count": 22,
   "metadata": {},
   "outputs": [],
   "source": [
    "l,k = initialize_parameters(10)"
   ]
  },
  {
   "cell_type": "code",
   "execution_count": 23,
   "metadata": {},
   "outputs": [
    {
     "data": {
      "text/plain": [
       "array([[-0.42952531],\n",
       "       [-0.7375141 ],\n",
       "       [ 0.1960864 ],\n",
       "       [ 0.28000531],\n",
       "       [ 0.92120596],\n",
       "       [-0.34726944],\n",
       "       [-1.10616802],\n",
       "       [ 0.25917723],\n",
       "       [ 0.38344481],\n",
       "       [ 0.56426332]])"
      ]
     },
     "execution_count": 23,
     "metadata": {},
     "output_type": "execute_result"
    }
   ],
   "source": [
    "l"
   ]
  },
  {
   "cell_type": "code",
   "execution_count": 24,
   "metadata": {},
   "outputs": [
    {
     "data": {
      "text/plain": [
       "0.0"
      ]
     },
     "execution_count": 24,
     "metadata": {},
     "output_type": "execute_result"
    }
   ],
   "source": [
    "k"
   ]
  },
  {
   "cell_type": "code",
   "execution_count": 25,
   "metadata": {},
   "outputs": [
    {
     "data": {
      "text/plain": [
       "array([[-0.42952531, -0.7375141 ,  0.1960864 ,  0.28000531,  0.92120596,\n",
       "        -0.34726944, -1.10616802,  0.25917723,  0.38344481,  0.56426332]])"
      ]
     },
     "execution_count": 25,
     "metadata": {},
     "output_type": "execute_result"
    }
   ],
   "source": [
    "l.transpose()"
   ]
  },
  {
   "cell_type": "code",
   "execution_count": 26,
   "metadata": {},
   "outputs": [
    {
     "data": {
      "text/plain": [
       "array([[-0.42952531],\n",
       "       [-0.7375141 ],\n",
       "       [ 0.1960864 ],\n",
       "       [ 0.28000531],\n",
       "       [ 0.92120596],\n",
       "       [-0.34726944],\n",
       "       [-1.10616802],\n",
       "       [ 0.25917723],\n",
       "       [ 0.38344481],\n",
       "       [ 0.56426332]])"
      ]
     },
     "execution_count": 26,
     "metadata": {},
     "output_type": "execute_result"
    }
   ],
   "source": [
    "l+k"
   ]
  },
  {
   "cell_type": "code",
   "execution_count": 27,
   "metadata": {},
   "outputs": [],
   "source": [
    "t = np.log(abs(l))"
   ]
  },
  {
   "cell_type": "code",
   "execution_count": 28,
   "metadata": {},
   "outputs": [
    {
     "data": {
      "text/plain": [
       "array([[-0.84507461],\n",
       "       [-0.30447007],\n",
       "       [-1.62919989],\n",
       "       [-1.27294671],\n",
       "       [-0.08207164],\n",
       "       [-1.05765433],\n",
       "       [ 0.10090181],\n",
       "       [-1.35024315],\n",
       "       [-0.95855957],\n",
       "       [-0.57223426]])"
      ]
     },
     "execution_count": 28,
     "metadata": {},
     "output_type": "execute_result"
    }
   ],
   "source": [
    "t"
   ]
  },
  {
   "cell_type": "code",
   "execution_count": 29,
   "metadata": {},
   "outputs": [
    {
     "data": {
      "text/plain": [
       "10"
      ]
     },
     "execution_count": 29,
     "metadata": {},
     "output_type": "execute_result"
    }
   ],
   "source": [
    "t.shape[0]"
   ]
  },
  {
   "cell_type": "code",
   "execution_count": 30,
   "metadata": {},
   "outputs": [],
   "source": [
    "e = t+2"
   ]
  },
  {
   "cell_type": "code",
   "execution_count": 43,
   "metadata": {},
   "outputs": [],
   "source": [
    "e = e.transpose()"
   ]
  },
  {
   "cell_type": "code",
   "execution_count": 46,
   "metadata": {},
   "outputs": [],
   "source": [
    "r = np.dot(t,e)"
   ]
  },
  {
   "cell_type": "code",
   "execution_count": 50,
   "metadata": {},
   "outputs": [],
   "source": [
    "q = r.squeeze"
   ]
  },
  {
   "cell_type": "code",
   "execution_count": 51,
   "metadata": {},
   "outputs": [
    {
     "data": {
      "text/plain": [
       "array([[-0.97599812, -1.43284928, -0.31335376, -0.61441427, -1.62079255,\n",
       "        -0.7963524 , -1.77541877, -0.54909302, -0.88009486, -1.20656857],\n",
       "       [-0.35164022, -0.51623812, -0.11289754, -0.22136597, -0.58395179,\n",
       "        -0.28691606, -0.63966173, -0.19783152, -0.31708744, -0.43471194],\n",
       "       [-1.88160432, -2.76235716, -0.6041075 , -1.18451513, -3.12468867,\n",
       "        -1.53526947, -3.422789  , -1.05858379, -1.69671463, -2.32611578],\n",
       "       [-1.47015848, -2.15831924, -0.47200879, -0.92550009, -2.4414206 ,\n",
       "        -1.19955583, -2.67433606, -0.82710585, -1.32569817, -1.8174697 ],\n",
       "       [-0.09478662, -0.13915492, -0.03043217, -0.05967045, -0.15740752,\n",
       "        -0.07733985, -0.17242445, -0.05332661, -0.08547272, -0.11717907],\n",
       "       [-1.22151184, -1.79328456, -0.39217834, -0.76897105, -2.02850523,\n",
       "        -0.99667598, -2.22202789, -0.68721815, -1.10148397, -1.51008261],\n",
       "       [ 0.11653407,  0.17108204,  0.0374144 ,  0.07336099,  0.19352245,\n",
       "         0.09508439,  0.2119848 ,  0.06556164,  0.10508323,  0.14406415],\n",
       "       [-1.5594301 , -2.28937766, -0.50067031, -0.98169872, -2.58966963,\n",
       "        -1.27239579, -2.83672828, -0.87732974, -1.4061978 , -1.9278309 ],\n",
       "       [-1.10706479, -1.62526644, -0.355434  , -0.69692389, -1.83844859,\n",
       "        -0.90329447, -2.01383954, -0.62283065, -0.99828269, -1.36859851],\n",
       "       [-0.66088788, -0.97024032, -0.21218453, -0.4160448 , -1.09750432,\n",
       "        -0.53924248, -1.202208  , -0.37181313, -0.5959479 , -0.81701647]])"
      ]
     },
     "execution_count": 51,
     "metadata": {},
     "output_type": "execute_result"
    }
   ],
   "source": [
    "r"
   ]
  },
  {
   "cell_type": "markdown",
   "metadata": {},
   "source": [
    "#### 4.3-Forward and backward propagation"
   ]
  },
  {
   "cell_type": "markdown",
   "metadata": {},
   "source": [
    "###### Some mathematical expressions\n",
    "Forward Propagation:   \n",
    ". X    \n",
    ". A = $\\sigma(X*w+b) = (a^{(1)},a^{(2)},...,a^{(m)}$   \n",
    ". J = $-\\frac{1}{m} \\sum_{i=1}^{m}y^{(i)}log(a^{(i)})+(1-y^{(i)})log(1-a^{(i)})$       "
   ]
  },
  {
   "cell_type": "markdown",
   "metadata": {},
   "source": [
    "Some derivative: \n",
    "$$\\frac{\\partial{J}}{\\partial{w}} = \\frac{1}{m}X^T*(A-Y)$$   \n",
    "$$\\text{d}w^{(i)} = \\frac{1}{m}(a^{(i)}-y^{(i)})*x^{(i)}$$\n",
    "$$\\frac{\\partial{J}}{\\partial{b}} = \\frac{1}{m}\\sum_{i=1}^m(a^{(i)}-y^{(i)}) $$"
   ]
  },
  {
   "cell_type": "markdown",
   "metadata": {},
   "source": [
    "###### Exercise:\n",
    "Finish the function below:"
   ]
  },
  {
   "cell_type": "code",
   "execution_count": 33,
   "metadata": {},
   "outputs": [],
   "source": [
    "def propagate(w,b,X,Y):\n",
    "    '''\n",
    "    Implement the cost function and its gradient for the propagation\n",
    "    \n",
    "    Arguments:\n",
    "    w - weights\n",
    "    b - bias\n",
    "    X - data\n",
    "    Y - ground truth\n",
    "    '''\n",
    "    m = X.shape[0] # 测试样本总数\n",
    "    l = np.dot(X,w) + b # 线性变换后的值\n",
    "    A = sigmoid(l) # sigmoid 后的值，即预测值\n",
    "    Y = Y.reshape(m,1)\n",
    "    \n",
    "#    s = 0  # 计算 loss function 的分子\n",
    "#    for i in range(m): \n",
    "#        s = s + Y[i]*np.log(A[i])+(1-Y[i])*np.log(1-A[i])\n",
    "        \n",
    "    cost = -sum(Y*np.log(A)+(1-Y)* np.log(1-A))/m  # loss function\n",
    "    \n",
    "    dw = np.dot(X.transpose(),(A-Y))/m\n",
    "    db = sum(A-Y)/m\n",
    "    \n",
    "    assert(dw.shape == w.shape)\n",
    "    assert(db.dtype == float)\n",
    "    cost = np.squeeze(cost)\n",
    "    assert(cost.shape == ())\n",
    "    \n",
    "    grads = {'dw':dw,\n",
    "             'db':db}\n",
    "    return grads, cost"
   ]
  },
  {
   "cell_type": "markdown",
   "metadata": {},
   "source": [
    "##### 4.4 -Optimization （寻找最优参数）"
   ]
  },
  {
   "cell_type": "markdown",
   "metadata": {},
   "source": [
    "###### Exercise:\n",
    "Minimizing the cost function using gradient descent.   \n",
    "$$\\theta = \\theta - \\alpha*d\\theta$$ where $\\alpha$ is the learning rate( step length)."
   ]
  },
  {
   "cell_type": "code",
   "execution_count": 34,
   "metadata": {},
   "outputs": [],
   "source": [
    "def optimize(w, b, X, Y, num_iterations, learning_rate, print_cost):\n",
    "    '''\n",
    "    This function optimize w and b by running a gradient descen algorithm\n",
    "    \n",
    "    Arguments:\n",
    "    w - weights\n",
    "    b - bias\n",
    "    X - data\n",
    "    Y - ground truth\n",
    "    num_iterations -- number of iterations of the optimization loop\n",
    "    learning_rate -- learning rate of the gradient descent update rule\n",
    "    print_cost -- True to print the loss every 100 steps\n",
    "    \n",
    "    Returns:\n",
    "    params - dictionary containing the weights w and bias b\n",
    "    grads -- dictionary containing the gradients of the weights and bias with respect to the cost function\n",
    "    costs -- list of all the costs computed during the optimization, this will be used to plot the learning curve.\n",
    "    \n",
    "    '''\n",
    "    Y = Y.reshape(X.shape[0],1)\n",
    "    costs = []\n",
    "    \n",
    "    for i in range(num_iterations):\n",
    "        \n",
    "        grads, cost = propagate(w, b, X, Y)\n",
    "        \n",
    "        dw = grads['dw']\n",
    "        db = grads['db']\n",
    "        \n",
    "        w = w-learning_rate*dw\n",
    "        b = b-learning_rate*db\n",
    "        \n",
    "        if i % 100 == 0:\n",
    "            costs.append(cost)\n",
    "        if print_cost and i % 100 == 0:\n",
    "            print (\"Cost after iteration %i: %f\" %(i, cost))\n",
    "    \n",
    "    params = {\"w\":w,\n",
    "              \"b\":b}\n",
    "    \n",
    "    grads = {\"dw\":dw,\n",
    "             \"db\":db}\n",
    "    \n",
    "    return params, grads, costs"
   ]
  },
  {
   "cell_type": "markdown",
   "metadata": {},
   "source": [
    "###### Predict 预测：\n",
    "###### Exercise\n",
    "The previous function will output the learned w and b. We are able to use w and b to predict the labels for a dataset X. Implement the predict() function.    \n",
    "Two steps to finish this task:   \n",
    "1. Calculate $\\hat{Y} = A = \\sigma(w^T*X+b)$   \n",
    "2. Convert the entries of a into 0 (if activation <= 0.5) or 1 (if activation > 0.5), stores the predictions in a vector Y_prediction. If you wish, you can use an if/else statement in a for loop (though there is also a way to vectorize this)."
   ]
  },
  {
   "cell_type": "code",
   "execution_count": 35,
   "metadata": {},
   "outputs": [],
   "source": [
    "def predict(w, b, X):\n",
    "    '''\n",
    "    Predict whether the label is 0 or 1 using learned logistic regression parameters (w, b)\n",
    "    \n",
    "    Arguments:\n",
    "    w -- weights\n",
    "    b -- bias \n",
    "    X -- data \n",
    "    \n",
    "    Returns:\n",
    "    Y_prediction -- a numpy array (vector) containing all predictions (0/1) for the examples in X\n",
    "    '''\n",
    "    m = X.shape[0]\n",
    "    Y_prediction = np.zeros((m,1))\n",
    "    w = w.reshape(X.shape[1],1)\n",
    "    \n",
    "    A = sigmoid(np.dot(X,w)+b) # 预测值(概率)\n",
    "    \n",
    "    # 预测值中 <= 0.5 记为 0，>0.5 记为 1\n",
    "    for i in range(A.shape[0]):\n",
    "        if A[i]<=0.5:\n",
    "            A[i] = 0\n",
    "        else: A[i] = 1\n",
    "    \n",
    "    assert(Y_prediction.shape == (m,1))\n",
    "    \n",
    "    return Y_prediction"
   ]
  },
  {
   "cell_type": "markdown",
   "metadata": {},
   "source": [
    "##### 5- Merge all functions into a model （整合成模型）"
   ]
  },
  {
   "cell_type": "markdown",
   "metadata": {},
   "source": [
    "Congratulations !! You have finished all the necessary components for constructing a model. Now, Let's take the challenge to merge all the implemented function into one model."
   ]
  },
  {
   "cell_type": "code",
   "execution_count": 36,
   "metadata": {},
   "outputs": [],
   "source": [
    "def model(X_train, Y_train, X_test, Y_test, num_iterations, learning_rate,print_cost=False):\n",
    "    \"\"\"\n",
    "    Build the logistic regression model by calling all the functions you have implemented.\n",
    "    Arguments:\n",
    "    X_train - training set\n",
    "    Y_train - training label\n",
    "    X_test - test set\n",
    "    Y_test - test label\n",
    "    num_iteration - hyperparameter representing the number of iterations to optimize the parameters\n",
    "    learning_rate -- hyperparameter representing the learning rate used in the update rule of optimize()\n",
    "    print_cost -- Set to true to print the cost every 100 iterations\n",
    "    \n",
    "    Returns:\n",
    "    d - dictionary should contain following information w,b,training_accuracy, test_accuracy,cost\n",
    "    eg: d = {\"w\":w,\n",
    "             \"b\":b,\n",
    "             \"training_accuracy\": traing_accuracy,\n",
    "             \"test_accuracy\":test_accuracy,\n",
    "             \"cost\":cost}\n",
    "    \"\"\"\n",
    "\n",
    "    Y_train = Y_train.reshape(X_train.shape[0],1)\n",
    "    Y_test = Y_test.reshape(X_test.shape[0],1)\n",
    "    \n",
    "    # 初始化 w,b\n",
    "    w,b = initialize_parameters(X_train.shape[1])\n",
    "    # 训练参数\n",
    "    params, grads, costs = optimize(w, b, X_train, Y_train, num_iterations, learning_rate, print_cost = False)\n",
    "    # 得到最优参数\n",
    "    w = params[\"w\"]\n",
    "    # w = w.reshape(X_train.shape[1],1)\n",
    "    b = params[\"b\"]\n",
    "    # 测试数据\n",
    "    Y_train_prediction = predict(w,b,X_train)\n",
    "    training_accuracy = sum((Y_train_prediction- Y_train)**2)/ Y_train_prediction.shape[0]\n",
    "    # 预测数据\n",
    "    Y_test_prediction = predict(w,b,X_test)\n",
    "    test_accuracy = sum((Y_test_prediction-Y_test)**2)/ Y_test_prediction.shape[0]\n",
    "    \n",
    "    d = {\n",
    "        \"w\":w,\n",
    "        \"b\":b,\n",
    "        \"training_accuracy\": training_accuracy,\n",
    "        \"test_accuracy\": test_accuracy,\n",
    "        \"cost\": costs\n",
    "    }\n",
    "    return d"
   ]
  },
  {
   "cell_type": "code",
   "execution_count": 39,
   "metadata": {
    "scrolled": true
   },
   "outputs": [
    {
     "name": "stderr",
     "output_type": "stream",
     "text": [
      "c:\\users\\administrator\\appdata\\local\\programs\\python\\python37\\lib\\site-packages\\ipykernel_launcher.py:20: RuntimeWarning: divide by zero encountered in log\n",
      "c:\\users\\administrator\\appdata\\local\\programs\\python\\python37\\lib\\site-packages\\ipykernel_launcher.py:20: RuntimeWarning: invalid value encountered in multiply\n"
     ]
    }
   ],
   "source": [
    "d = model(X_train, y_train, X_test, y_test, num_iterations = 2000, learning_rate = 1e-2,print_cost=False)"
   ]
  },
  {
   "cell_type": "code",
   "execution_count": 40,
   "metadata": {},
   "outputs": [
    {
     "name": "stdout",
     "output_type": "stream",
     "text": [
      "{'w': array([[-1.61418008],\n",
      "       [ 0.36275258],\n",
      "       [ 0.13385725],\n",
      "       [-0.33450734],\n",
      "       [ 0.5436746 ],\n",
      "       [-0.17233261],\n",
      "       [ 1.84771173],\n",
      "       [-0.95355073],\n",
      "       [ 1.43423853],\n",
      "       [ 0.12754212],\n",
      "       [ 0.42855526],\n",
      "       [ 0.54283217],\n",
      "       [-0.31899045],\n",
      "       [-0.12389126],\n",
      "       [-0.18266745],\n",
      "       [ 1.14379389],\n",
      "       [-0.12418312],\n",
      "       [-0.08025941],\n",
      "       [ 0.64905911],\n",
      "       [-0.09161105],\n",
      "       [-0.80505748],\n",
      "       [-0.0845447 ],\n",
      "       [-0.57881527],\n",
      "       [-1.48159641],\n",
      "       [ 1.72844313],\n",
      "       [-0.00404188],\n",
      "       [-0.36677278],\n",
      "       [ 0.86616194],\n",
      "       [ 0.1851984 ],\n",
      "       [ 0.48617789],\n",
      "       [-0.87923354],\n",
      "       [-1.13418618],\n",
      "       [ 0.83661812],\n",
      "       [-1.25424642],\n",
      "       [ 0.58644519],\n",
      "       [ 0.24016518],\n",
      "       [-0.14629951],\n",
      "       [-0.3347359 ],\n",
      "       [ 1.03248627],\n",
      "       [ 0.04262644],\n",
      "       [ 0.412952  ],\n",
      "       [-0.25686411],\n",
      "       [-0.20751886],\n",
      "       [ 0.41779647],\n",
      "       [ 0.24307963],\n",
      "       [ 0.43292265],\n",
      "       [ 0.19057616],\n",
      "       [ 0.61603676],\n",
      "       [-0.00333282],\n",
      "       [-0.62639751],\n",
      "       [ 0.63430595],\n",
      "       [-0.88596536],\n",
      "       [-0.64400278],\n",
      "       [-0.19934704],\n",
      "       [ 0.03453188],\n",
      "       [-0.3990752 ],\n",
      "       [-0.20528283],\n",
      "       [ 0.22087182],\n",
      "       [-0.50442861],\n",
      "       [ 0.22229882],\n",
      "       [-1.42814838],\n",
      "       [ 0.51362091],\n",
      "       [-0.58683075],\n",
      "       [ 0.40613827]]), 'b': array([-0.01064462]), 'training_accuracy': array([0.51373422]), 'test_accuracy': array([0.45333333]), 'cost': [array(nan), array(nan), array(nan), array(nan), array(nan), array(nan), array(nan), array(nan), array(nan), array(nan), array(nan), array(nan), array(nan), array(nan), array(nan), array(nan), array(nan), array(nan), array(nan), array(nan)]}\n"
     ]
    }
   ],
   "source": [
    "print(d)"
   ]
  },
  {
   "cell_type": "markdown",
   "metadata": {},
   "source": [
    "### 4.选做题"
   ]
  },
  {
   "cell_type": "markdown",
   "metadata": {},
   "source": [
    "Congratulations on building your first logistic regression model. It is your time to analyze it further."
   ]
  },
  {
   "cell_type": "markdown",
   "metadata": {},
   "source": [
    "##### 4.1 Observe the effect of learning rate on the leraning process.   \n",
    "Hits: plot the learning curve with different learning rate"
   ]
  },
  {
   "cell_type": "markdown",
   "metadata": {},
   "source": [
    "##### 4.2 Observe the effect of iteration_num on the test accuracy."
   ]
  },
  {
   "cell_type": "markdown",
   "metadata": {},
   "source": [
    "# Challenge ! ! !\n",
    "\n",
    "The original data have images labeled 0,1,2,3,4,5,6,7,8,9. In our logistic model, we only detect if the digit in the image is larger or smaller than 5. Now, Let's go for a more challenging problem. Try to use softmax function to build a model to recognize which digits (0,1,2,3,4,5,6,7,8,9) is in the image."
   ]
  },
  {
   "cell_type": "markdown",
   "metadata": {},
   "source": [
    "# Congratulations ! You have completed assigment 4. "
   ]
  },
  {
   "cell_type": "code",
   "execution_count": null,
   "metadata": {},
   "outputs": [],
   "source": []
  }
 ],
 "metadata": {
  "kernelspec": {
   "display_name": "Python 3",
   "language": "python",
   "name": "python3"
  },
  "language_info": {
   "codemirror_mode": {
    "name": "ipython",
    "version": 3
   },
   "file_extension": ".py",
   "mimetype": "text/x-python",
   "name": "python",
   "nbconvert_exporter": "python",
   "pygments_lexer": "ipython3",
   "version": "3.7.3"
  }
 },
 "nbformat": 4,
 "nbformat_minor": 2
}
