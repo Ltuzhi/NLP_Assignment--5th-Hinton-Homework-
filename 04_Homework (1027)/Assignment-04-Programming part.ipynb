{
 "cells": [
  {
   "cell_type": "markdown",
   "metadata": {},
   "source": [
    "# Assignment 4 - Programming part（编程部分）"
   ]
  },
  {
   "cell_type": "markdown",
   "metadata": {},
   "source": [
    "### 3.实践题"
   ]
  },
  {
   "cell_type": "markdown",
   "metadata": {},
   "source": [
    "#### In this practical part, you will build a simple digits recognizer to check if the digit in the image is larger than 5. This assignmnet will guide you step by step to finish your first small project in this course ."
   ]
  },
  {
   "cell_type": "markdown",
   "metadata": {},
   "source": [
    "#### 1 - Packages  \n",
    "sklearn is a famous package for machine learning.   \n",
    "matplotlib is a common package for vasualization."
   ]
  },
  {
   "cell_type": "code",
   "execution_count": 1,
   "metadata": {},
   "outputs": [],
   "source": [
    "from sklearn import datasets # 载入 sklearn 自带的数据集\n",
    "import matplotlib.pyplot as plt\n",
    "from sklearn.model_selection import train_test_split"
   ]
  },
  {
   "cell_type": "markdown",
   "metadata": {},
   "source": [
    "#### 2 - Overvie of the dataset  （查看数据集）\n",
    "    - a training set has m_train images labeled as 0 if the digit < 5 or 1 if the digit >= 5 \n",
    "        （训练集：小于5的图片标为 0，大于5的图片标为 1）\n",
    "    - a test set contains m_test images labels as if the digit < 5 or 1 if the digit >= 5\n",
    "        （测试集：标记图片，小于5标为 0，大于5标为 1）\n",
    "    - each image if of shape (num_px, num_px ). Thus, each image is square(height=num_px and  width = num_px)\n",
    "        （每张图片为一个方阵，长和宽的像素点相同）"
   ]
  },
  {
   "cell_type": "code",
   "execution_count": 2,
   "metadata": {},
   "outputs": [],
   "source": [
    "# Loading the data （导入手写字体数据集）\n",
    "digits = datasets.load_digits()"
   ]
  },
  {
   "cell_type": "code",
   "execution_count": 3,
   "metadata": {},
   "outputs": [
    {
     "name": "stdout",
     "output_type": "stream",
     "text": [
      "dict_keys(['data', 'target', 'target_names', 'images', 'DESCR'])\n"
     ]
    }
   ],
   "source": [
    "# 查看数据类型\n",
    "print(digits.keys())"
   ]
  },
  {
   "cell_type": "code",
   "execution_count": 4,
   "metadata": {},
   "outputs": [
    {
     "data": {
      "image/png": "[encoded data removed]",
      "text/plain": [
       "<Figure size 432x288 with 10 Axes>"
      ]
     },
     "metadata": {},
     "output_type": "display_data"
    }
   ],
   "source": [
    "# Vilizating the data 数据可视化\n",
    "for i in range(1,11):\n",
    "    plt.subplot(2,5,i) # 画 2 行 5 列的图\n",
    "    plt.imshow(digits.data[i-1].reshape([8,8]),cmap=plt.cm.gray_r)\n",
    "    plt.text(3,10,str(digits.target[i-1])) #在图片的对应位置添加文本 0~9\n",
    "    plt.xticks([]) #设置坐标轴显示的刻度值\n",
    "    plt.yticks([])\n",
    "plt.show()"
   ]
  },
  {
   "cell_type": "code",
   "execution_count": 5,
   "metadata": {},
   "outputs": [],
   "source": [
    "# Split the data into training set and test set  划分训练集和测试集 测试集为数据集的 25%\n",
    "X_train, X_test, y_train, y_test = train_test_split(digits.data, digits.target, test_size=0.25)"
   ]
  },
  {
   "cell_type": "code",
   "execution_count": 6,
   "metadata": {},
   "outputs": [
    {
     "data": {
      "text/plain": [
       "array([[ 0.,  0.,  8., ...,  9.,  0.,  0.],\n",
       "       [ 0.,  0.,  0., ...,  0.,  0.,  0.],\n",
       "       [ 0.,  5., 15., ..., 13.,  3.,  0.],\n",
       "       ...,\n",
       "       [ 0.,  0.,  0., ..., 16.,  1.,  0.],\n",
       "       [ 0.,  0.,  4., ..., 10.,  1.,  0.],\n",
       "       [ 0.,  0.,  0., ...,  0.,  0.,  0.]])"
      ]
     },
     "execution_count": 6,
     "metadata": {},
     "output_type": "execute_result"
    }
   ],
   "source": [
    "X_train # 每一行代表一张图 8*8 的像素点"
   ]
  },
  {
   "cell_type": "code",
   "execution_count": 7,
   "metadata": {},
   "outputs": [
    {
     "data": {
      "text/plain": [
       "array([3, 7, 2, ..., 1, 0, 1])"
      ]
     },
     "execution_count": 7,
     "metadata": {},
     "output_type": "execute_result"
    }
   ],
   "source": [
    "y_train"
   ]
  },
  {
   "cell_type": "code",
   "execution_count": 8,
   "metadata": {},
   "outputs": [
    {
     "data": {
      "text/plain": [
       "array([8, 2, 4, 8, 6, 7, 8, 9, 3, 6, 9, 9, 8, 3, 7, 8, 2, 0, 7, 4, 4, 2,\n",
       "       7, 8, 1, 1, 5, 6, 0, 5, 3, 1, 1, 8, 0, 9, 0, 6, 6, 4, 3, 6, 4, 9,\n",
       "       2, 9, 8, 9, 1, 1, 3, 6, 7, 1, 3, 5, 7, 9, 1, 3, 5, 7, 2, 5, 9, 3,\n",
       "       5, 9, 5, 7, 6, 4, 6, 1, 7, 4, 0, 5, 3, 1, 8, 0, 6, 5, 6, 8, 1, 4,\n",
       "       9, 2, 5, 0, 6, 3, 9, 7, 6, 1, 7, 3, 5, 9, 0, 3, 2, 4, 1, 2, 9, 7,\n",
       "       6, 5, 2, 6, 7, 3, 4, 3, 9, 7, 3, 3, 2, 4, 7, 5, 0, 6, 4, 2, 0, 0,\n",
       "       0, 6, 3, 7, 1, 2, 0, 6, 2, 5, 4, 3, 6, 6, 1, 1, 5, 9, 4, 9, 3, 0,\n",
       "       6, 5, 6, 9, 5, 0, 4, 6, 7, 2, 5, 7, 2, 8, 0, 7, 9, 5, 0, 0, 4, 4,\n",
       "       2, 0, 9, 1, 0, 2, 2, 9, 5, 1, 3, 7, 9, 2, 7, 0, 0, 0, 4, 5, 7, 5,\n",
       "       1, 2, 4, 9, 6, 4, 3, 9, 3, 5, 4, 7, 2, 3, 6, 0, 5, 0, 6, 0, 3, 8,\n",
       "       8, 6, 7, 7, 2, 8, 7, 8, 8, 4, 4, 0, 6, 8, 2, 3, 3, 2, 8, 9, 0, 4,\n",
       "       5, 6, 4, 5, 1, 2, 7, 9, 8, 9, 4, 2, 8, 2, 6, 8, 6, 5, 0, 7, 9, 2,\n",
       "       0, 7, 5, 6, 3, 3, 2, 3, 1, 9, 1, 7, 8, 0, 4, 2, 0, 0, 8, 7, 1, 9,\n",
       "       8, 7, 2, 5, 3, 1, 2, 2, 0, 1, 2, 2, 3, 5, 7, 4, 0, 1, 3, 9, 0, 4,\n",
       "       1, 5, 0, 1, 6, 9, 1, 1, 9, 8, 8, 1, 5, 4, 8, 3, 7, 7, 4, 1, 9, 4,\n",
       "       9, 3, 6, 5, 7, 7, 1, 1, 0, 5, 6, 4, 3, 8, 8, 5, 0, 9, 4, 3, 7, 1,\n",
       "       9, 1, 9, 9, 5, 0, 6, 1, 4, 6, 7, 3, 8, 8, 0, 9, 6, 3, 6, 1, 0, 9,\n",
       "       6, 6, 4, 3, 0, 8, 1, 9, 8, 6, 4, 9, 9, 2, 6, 4, 9, 1, 7, 9, 8, 5,\n",
       "       3, 5, 1, 2, 6, 1, 0, 9, 3, 5, 3, 1, 6, 6, 2, 9, 7, 0, 4, 6, 2, 7,\n",
       "       0, 7, 1, 0, 3, 4, 6, 4, 0, 8, 8, 3, 6, 0, 1, 9, 4, 9, 1, 3, 2, 9,\n",
       "       8, 8, 1, 8, 2, 4, 5, 7, 9, 5])"
      ]
     },
     "execution_count": 8,
     "metadata": {},
     "output_type": "execute_result"
    }
   ],
   "source": [
    "y_test"
   ]
  },
  {
   "cell_type": "code",
   "execution_count": 9,
   "metadata": {},
   "outputs": [],
   "source": [
    "# reformulate the label. 设置标签\n",
    "# If the digit is smaller than 5, the label is 0.\n",
    "# If the digit is larger than 5, the label is 1.\n",
    "\n",
    "y_train[y_train < 5 ] = 0\n",
    "y_train[y_train >= 5] = 1\n",
    "y_test[y_test < 5] = 0\n",
    "y_test[y_test >= 5] = 1"
   ]
  },
  {
   "cell_type": "code",
   "execution_count": 10,
   "metadata": {},
   "outputs": [
    {
     "data": {
      "text/plain": [
       "array([0, 1, 0, ..., 0, 0, 0])"
      ]
     },
     "execution_count": 10,
     "metadata": {},
     "output_type": "execute_result"
    }
   ],
   "source": [
    "y_train"
   ]
  },
  {
   "cell_type": "code",
   "execution_count": 11,
   "metadata": {},
   "outputs": [
    {
     "data": {
      "text/plain": [
       "array([1, 0, 0, 1, 1, 1, 1, 1, 0, 1, 1, 1, 1, 0, 1, 1, 0, 0, 1, 0, 0, 0,\n",
       "       1, 1, 0, 0, 1, 1, 0, 1, 0, 0, 0, 1, 0, 1, 0, 1, 1, 0, 0, 1, 0, 1,\n",
       "       0, 1, 1, 1, 0, 0, 0, 1, 1, 0, 0, 1, 1, 1, 0, 0, 1, 1, 0, 1, 1, 0,\n",
       "       1, 1, 1, 1, 1, 0, 1, 0, 1, 0, 0, 1, 0, 0, 1, 0, 1, 1, 1, 1, 0, 0,\n",
       "       1, 0, 1, 0, 1, 0, 1, 1, 1, 0, 1, 0, 1, 1, 0, 0, 0, 0, 0, 0, 1, 1,\n",
       "       1, 1, 0, 1, 1, 0, 0, 0, 1, 1, 0, 0, 0, 0, 1, 1, 0, 1, 0, 0, 0, 0,\n",
       "       0, 1, 0, 1, 0, 0, 0, 1, 0, 1, 0, 0, 1, 1, 0, 0, 1, 1, 0, 1, 0, 0,\n",
       "       1, 1, 1, 1, 1, 0, 0, 1, 1, 0, 1, 1, 0, 1, 0, 1, 1, 1, 0, 0, 0, 0,\n",
       "       0, 0, 1, 0, 0, 0, 0, 1, 1, 0, 0, 1, 1, 0, 1, 0, 0, 0, 0, 1, 1, 1,\n",
       "       0, 0, 0, 1, 1, 0, 0, 1, 0, 1, 0, 1, 0, 0, 1, 0, 1, 0, 1, 0, 0, 1,\n",
       "       1, 1, 1, 1, 0, 1, 1, 1, 1, 0, 0, 0, 1, 1, 0, 0, 0, 0, 1, 1, 0, 0,\n",
       "       1, 1, 0, 1, 0, 0, 1, 1, 1, 1, 0, 0, 1, 0, 1, 1, 1, 1, 0, 1, 1, 0,\n",
       "       0, 1, 1, 1, 0, 0, 0, 0, 0, 1, 0, 1, 1, 0, 0, 0, 0, 0, 1, 1, 0, 1,\n",
       "       1, 1, 0, 1, 0, 0, 0, 0, 0, 0, 0, 0, 0, 1, 1, 0, 0, 0, 0, 1, 0, 0,\n",
       "       0, 1, 0, 0, 1, 1, 0, 0, 1, 1, 1, 0, 1, 0, 1, 0, 1, 1, 0, 0, 1, 0,\n",
       "       1, 0, 1, 1, 1, 1, 0, 0, 0, 1, 1, 0, 0, 1, 1, 1, 0, 1, 0, 0, 1, 0,\n",
       "       1, 0, 1, 1, 1, 0, 1, 0, 0, 1, 1, 0, 1, 1, 0, 1, 1, 0, 1, 0, 0, 1,\n",
       "       1, 1, 0, 0, 0, 1, 0, 1, 1, 1, 0, 1, 1, 0, 1, 0, 1, 0, 1, 1, 1, 1,\n",
       "       0, 1, 0, 0, 1, 0, 0, 1, 0, 1, 0, 0, 1, 1, 0, 1, 1, 0, 0, 1, 0, 1,\n",
       "       0, 1, 0, 0, 0, 0, 1, 0, 0, 1, 1, 0, 1, 0, 0, 1, 0, 1, 0, 0, 0, 1,\n",
       "       1, 1, 0, 1, 0, 0, 1, 1, 1, 1])"
      ]
     },
     "execution_count": 11,
     "metadata": {},
     "output_type": "execute_result"
    }
   ],
   "source": [
    "y_test"
   ]
  },
  {
   "cell_type": "code",
   "execution_count": 12,
   "metadata": {},
   "outputs": [
    {
     "name": "stdout",
     "output_type": "stream",
     "text": [
      "(1347, 64)\n",
      "(450, 64)\n",
      "(1347,)\n",
      "(450,)\n"
     ]
    }
   ],
   "source": [
    "# 查看训练集和测试集的大小\n",
    "print(X_train.shape)\n",
    "print(X_test.shape)\n",
    "print(y_train.shape)\n",
    "print(y_test.shape)"
   ]
  },
  {
   "cell_type": "code",
   "execution_count": 13,
   "metadata": {},
   "outputs": [
    {
     "data": {
      "text/plain": [
       "64"
      ]
     },
     "execution_count": 13,
     "metadata": {},
     "output_type": "execute_result"
    }
   ],
   "source": [
    "X_train.shape[1]"
   ]
  },
  {
   "cell_type": "code",
   "execution_count": 14,
   "metadata": {},
   "outputs": [
    {
     "data": {
      "text/plain": [
       "1347"
      ]
     },
     "execution_count": 14,
     "metadata": {},
     "output_type": "execute_result"
    }
   ],
   "source": [
    "X_train.shape[0]"
   ]
  },
  {
   "cell_type": "markdown",
   "metadata": {},
   "source": [
    "#### 3- Architecture of the neural network （神经网络的结构）"
   ]
  },
  {
   "cell_type": "markdown",
   "metadata": {},
   "source": [
    "##### Mathematical expression of the algorithm:"
   ]
  },
  {
   "cell_type": "markdown",
   "metadata": {},
   "source": [
    "For one example $x^{(i)}$: \n",
    " $$ z^{(i)} = w^T * x^{(i)} +b $$   \n",
    " $$ \\hat{y}^{(i)} = a^{(i)} = sigmoid(z^{(i)})$$   \n",
    " $$L(a^{(i)},y^{(i)}) = -y^{(i)} log(a^{(i)})-(1-y^{(i)})log(1-a^{(i)})$$\n",
    " 输入值 x -> 线性变化后 z -> 非线性变化后 a (预测值) -> loss function (真实值与预测值的差异)"
   ]
  },
  {
   "cell_type": "markdown",
   "metadata": {},
   "source": [
    "The total cost over all training examples:\n",
    "$$ J = \\frac{1}{m}\\sum_{i=1}^{m}L(a^{(i)},y^{(i)}) $$"
   ]
  },
  {
   "cell_type": "code",
   "execution_count": 15,
   "metadata": {},
   "outputs": [],
   "source": [
    "import numpy as np\n",
    "import random"
   ]
  },
  {
   "cell_type": "markdown",
   "metadata": {},
   "source": [
    "#### 4 - Building the algorithm （构建算法）"
   ]
  },
  {
   "cell_type": "markdown",
   "metadata": {},
   "source": [
    "##### 4.1- Activation function    \n",
    "###### Exercise:\n",
    "Finish the sigmoid funciton "
   ]
  },
  {
   "cell_type": "code",
   "execution_count": 16,
   "metadata": {},
   "outputs": [],
   "source": [
    "def sigmoid(z):\n",
    "    '''\n",
    "    Compute the sigmoid of z\n",
    "    Arguments: z -- a scalar or numpy array of any size.\n",
    "    \n",
    "    Return:\n",
    "    s -- sigmoid(z)\n",
    "    '''\n",
    "    s = 1./(1 + np.exp(-1 * z))\n",
    "    \n",
    "    return s"
   ]
  },
  {
   "cell_type": "code",
   "execution_count": 17,
   "metadata": {},
   "outputs": [
    {
     "name": "stdout",
     "output_type": "stream",
     "text": [
      "sigmoid([0,2]) = [0.5        0.88079708]\n"
     ]
    }
   ],
   "source": [
    "# Test your code \n",
    "# The result should be [0.5 0.88079708]\n",
    "print(\"sigmoid([0,2]) = \" + str(sigmoid(np.array([0,2]))))"
   ]
  },
  {
   "cell_type": "markdown",
   "metadata": {},
   "source": [
    "##### 4.1-Initializaing parameters\n",
    "###### Exercise:\n",
    "Finish the initialize_parameters function below"
   ]
  },
  {
   "cell_type": "code",
   "execution_count": 18,
   "metadata": {},
   "outputs": [],
   "source": [
    "q = np.random.randn(10, 1)"
   ]
  },
  {
   "cell_type": "code",
   "execution_count": 19,
   "metadata": {},
   "outputs": [],
   "source": [
    "# Random innitialize the parameters w and b 随机初始化参数值\n",
    "\n",
    "def initialize_parameters(dim):\n",
    "    '''\n",
    "    Argument: dim -- size of the w vector\n",
    "    \n",
    "    Returns:\n",
    "    w -- initialized vector of shape (dim,1)\n",
    "    b -- initializaed scalar\n",
    "    '''\n",
    "    \n",
    "    w = np.random.randn(dim, 1)\n",
    "    b = random.uniform(0, 1) \n",
    "    \n",
    "    assert(w.shape == (dim,1))\n",
    "    assert(isinstance(b,float) or isinstance(b,int))\n",
    "    \n",
    "    return w,b"
   ]
  },
  {
   "cell_type": "markdown",
   "metadata": {},
   "source": [
    "#### 4.3-Forward and backward propagation"
   ]
  },
  {
   "cell_type": "markdown",
   "metadata": {},
   "source": [
    "###### Some mathematical expressions\n",
    "Forward Propagation:   \n",
    ". X    \n",
    ". A = $\\sigma(X*w+b) = (a^{(1)},a^{(2)},...,a^{(m)}$   \n",
    ". J = $-\\frac{1}{m} \\sum_{i=1}^{m}y^{(i)}log(a^{(i)})+(1-y^{(i)})log(1-a^{(i)})$       "
   ]
  },
  {
   "cell_type": "markdown",
   "metadata": {},
   "source": [
    "Some derivative: \n",
    "$$\\frac{\\partial{J}}{\\partial{w}} = \\frac{1}{m}X^T*(A-Y)$$   \n",
    "$$\\text{d}w^{(i)} = \\frac{1}{m}(a^{(i)}-y^{(i)})*x^{(i)}$$\n",
    "$$\\frac{\\partial{J}}{\\partial{b}} = \\frac{1}{m}\\sum_{i=1}^m(a^{(i)}-y^{(i)}) $$"
   ]
  },
  {
   "cell_type": "markdown",
   "metadata": {},
   "source": [
    "###### Exercise:\n",
    "Finish the function below:"
   ]
  },
  {
   "cell_type": "code",
   "execution_count": 20,
   "metadata": {},
   "outputs": [],
   "source": [
    "def propagate(w,b,X,Y):\n",
    "    '''\n",
    "    Implement the cost function and its gradient for the propagation\n",
    "    \n",
    "    Arguments:\n",
    "    w - weights\n",
    "    b - bias\n",
    "    X - data\n",
    "    Y - ground truth\n",
    "    '''\n",
    "    m = X.shape[0] # 测试样本总数\n",
    "    l = np.dot(X,w) + b # 线性变换后的值\n",
    "    A = sigmoid(l) # sigmoid 后的值，即预测值\n",
    "    Y = Y.reshape(m,1)\n",
    "    \n",
    "#    s = 0  # 计算 loss function 的分子\n",
    "#    for i in range(m): \n",
    "#        s = s + Y[i]*np.log(A[i])+(1-Y[i])*np.log(1-A[i])\n",
    "#    cost = - s/m   \n",
    "\n",
    "    epsilon = 1e-5 # 防止 log 函数溢出\n",
    "    cost = -sum(Y*np.log(A+epsilon)+(1-Y)* np.log(1-A+epsilon))/m  # loss function\n",
    "\n",
    "    \n",
    "    dw = np.dot(X.transpose(),(A-Y))/m\n",
    "    db = sum(A-Y)/m\n",
    "    \n",
    "    assert(dw.shape == w.shape)\n",
    "    assert(db.dtype == float)\n",
    "    cost = np.squeeze(cost)\n",
    "    assert(cost.shape == ())\n",
    "    \n",
    "    grads = {'dw':dw,\n",
    "             'db':db}\n",
    "    return grads, cost"
   ]
  },
  {
   "cell_type": "code",
   "execution_count": 21,
   "metadata": {},
   "outputs": [],
   "source": [
    "# grads, cost = propagate(np.random.randn(64, 1),0.5,X_test,y_test.reshape(450,1))"
   ]
  },
  {
   "cell_type": "code",
   "execution_count": 22,
   "metadata": {},
   "outputs": [],
   "source": [
    "# print(grads)"
   ]
  },
  {
   "cell_type": "code",
   "execution_count": 23,
   "metadata": {},
   "outputs": [],
   "source": [
    "# print(cost)"
   ]
  },
  {
   "cell_type": "markdown",
   "metadata": {},
   "source": [
    "##### 4.4 -Optimization （寻找最优参数）"
   ]
  },
  {
   "cell_type": "markdown",
   "metadata": {},
   "source": [
    "###### Exercise:\n",
    "Minimizing the cost function using gradient descent.   \n",
    "$$\\theta = \\theta - \\alpha*d\\theta$$ where $\\alpha$ is the learning rate( step length)."
   ]
  },
  {
   "cell_type": "code",
   "execution_count": 24,
   "metadata": {},
   "outputs": [],
   "source": [
    "def optimize(w, b, X, Y, num_iterations, learning_rate, print_cost):\n",
    "    '''\n",
    "    This function optimize w and b by running a gradient descen algorithm\n",
    "    \n",
    "    Arguments:\n",
    "    w - weights\n",
    "    b - bias\n",
    "    X - data\n",
    "    Y - ground truth\n",
    "    num_iterations -- number of iterations of the optimization loop\n",
    "    learning_rate -- learning rate of the gradient descent update rule\n",
    "    print_cost -- True to print the loss every 100 steps\n",
    "    \n",
    "    Returns:\n",
    "    params - dictionary containing the weights w and bias b\n",
    "    grads -- dictionary containing the gradients of the weights and bias with respect to the cost function\n",
    "    costs -- list of all the costs computed during the optimization, this will be used to plot the learning curve.\n",
    "    \n",
    "    '''\n",
    "    Y = Y.reshape(X.shape[0],1)\n",
    "    costs = []\n",
    "    \n",
    "    for i in range(num_iterations):\n",
    "        \n",
    "        grads, cost = propagate(w, b, X, Y)\n",
    "        \n",
    "        dw = grads['dw']\n",
    "        db = grads['db']\n",
    "        \n",
    "        w = w-learning_rate*dw\n",
    "        b = b-learning_rate*db\n",
    "        \n",
    "        if i % 100 == 0:\n",
    "            costs.append(cost)\n",
    "        if print_cost and i % 100 == 0:\n",
    "            print (\"Cost after iteration %i: %f\" %(i, cost))\n",
    "    \n",
    "    params = {\"w\":w,\n",
    "              \"b\":b}\n",
    "    \n",
    "    grads = {\"dw\":dw,\n",
    "             \"db\":db}\n",
    "    \n",
    "    return params, grads, costs"
   ]
  },
  {
   "cell_type": "markdown",
   "metadata": {},
   "source": [
    "###### Predict 预测：\n",
    "###### Exercise\n",
    "The previous function will output the learned w and b. We are able to use w and b to predict the labels for a dataset X. Implement the predict() function.    \n",
    "Two steps to finish this task:   \n",
    "1. Calculate $\\hat{Y} = A = \\sigma(w^T*X+b)$   \n",
    "2. Convert the entries of a into 0 (if activation <= 0.5) or 1 (if activation > 0.5), stores the predictions in a vector Y_prediction. If you wish, you can use an if/else statement in a for loop (though there is also a way to vectorize this)."
   ]
  },
  {
   "cell_type": "code",
   "execution_count": 25,
   "metadata": {},
   "outputs": [],
   "source": [
    "def predict(w, b, X):\n",
    "    '''\n",
    "    Predict whether the label is 0 or 1 using learned logistic regression parameters (w, b)\n",
    "    \n",
    "    Arguments:\n",
    "    w -- weights\n",
    "    b -- bias \n",
    "    X -- data \n",
    "    \n",
    "    Returns:\n",
    "    Y_prediction -- a numpy array (vector) containing all predictions (0/1) for the examples in X\n",
    "    '''\n",
    "    m = X.shape[0]\n",
    "    Y_prediction = np.zeros((m,1))\n",
    "    w = w.reshape(X.shape[1],1)\n",
    "    \n",
    "    A = sigmoid(np.dot(X,w)+b) # 预测值(概率)\n",
    "    \n",
    "    # 预测值中 <= 0.5 记为 0，>0.5 记为 1\n",
    "    for i in range(A.shape[0]):\n",
    "        if A[i]>0.5:\n",
    "            Y_prediction[i] = 1\n",
    "    \n",
    "    assert(Y_prediction.shape == (m,1))\n",
    "    \n",
    "    return Y_prediction"
   ]
  },
  {
   "cell_type": "markdown",
   "metadata": {},
   "source": [
    "##### 5- Merge all functions into a model （整合成模型）"
   ]
  },
  {
   "cell_type": "markdown",
   "metadata": {},
   "source": [
    "Congratulations !! You have finished all the necessary components for constructing a model. Now, Let's take the challenge to merge all the implemented function into one model."
   ]
  },
  {
   "cell_type": "code",
   "execution_count": 37,
   "metadata": {},
   "outputs": [],
   "source": [
    "def model(X_train, Y_train, X_test, Y_test, num_iterations, learning_rate,print_cost=False):\n",
    "    \"\"\"\n",
    "    Build the logistic regression model by calling all the functions you have implemented.\n",
    "    Arguments:\n",
    "    X_train - training set\n",
    "    Y_train - training label\n",
    "    X_test - test set\n",
    "    Y_test - test label\n",
    "    num_iteration - hyperparameter representing the number of iterations to optimize the parameters\n",
    "    learning_rate -- hyperparameter representing the learning rate used in the update rule of optimize()\n",
    "    print_cost -- Set to true to print the cost every 100 iterations\n",
    "    \n",
    "    Returns:\n",
    "    d - dictionary should contain following information w,b,training_accuracy, test_accuracy,cost\n",
    "    eg: d = {\"w\":w,\n",
    "             \"b\":b,\n",
    "             \"training_accuracy\": traing_accuracy,\n",
    "             \"test_accuracy\":test_accuracy,\n",
    "             \"cost\":cost}\n",
    "    \"\"\"\n",
    "\n",
    "    Y_train = Y_train.reshape(X_train.shape[0],1)\n",
    "    Y_test = Y_test.reshape(X_test.shape[0],1)\n",
    "    \n",
    "    # 初始化 w,b\n",
    "    w,b = initialize_parameters(X_train.shape[1])\n",
    "    # 训练参数\n",
    "    params, grads, costs = optimize(w, b, X_train, Y_train, num_iterations, learning_rate, print_cost = False)\n",
    "    # 得到最优参数\n",
    "    w = params[\"w\"]\n",
    "    # w = w.reshape(X_train.shape[1],1)\n",
    "    b = params[\"b\"]\n",
    "    # 测试数据\n",
    "    Y_train_prediction = predict(w,b,X_train)\n",
    "    training_accuracy = 1 - sum((Y_train_prediction- Y_train)**2)/ Y_train_prediction.shape[0] #采用方差算精确度\n",
    "    # 预测数据\n",
    "    Y_test_prediction = predict(w,b,X_test)\n",
    "    test_accuracy = 1 - sum((Y_test_prediction-Y_test)**2)/ Y_test_prediction.shape[0]\n",
    "    \n",
    "    d = {\n",
    "        \"w\":w,\n",
    "        \"b\":b,\n",
    "        \"training_accuracy\": training_accuracy,\n",
    "        \"test_accuracy\": test_accuracy,\n",
    "        \"cost\": costs\n",
    "    }\n",
    "    return d"
   ]
  },
  {
   "cell_type": "code",
   "execution_count": 38,
   "metadata": {
    "scrolled": true
   },
   "outputs": [],
   "source": [
    "d = model(X_train, y_train, X_test, y_test, num_iterations = 2000, learning_rate = 1e-2,print_cost=False)"
   ]
  },
  {
   "cell_type": "code",
   "execution_count": 39,
   "metadata": {
    "scrolled": true
   },
   "outputs": [
    {
     "name": "stdout",
     "output_type": "stream",
     "text": [
      "{'w': array([[ 0.3032421 ],\n",
      "       [ 0.26197866],\n",
      "       [ 0.06039785],\n",
      "       [-0.06915225],\n",
      "       [ 0.10520651],\n",
      "       [ 0.35174082],\n",
      "       [ 0.61003764],\n",
      "       [ 0.02732387],\n",
      "       [ 0.12429708],\n",
      "       [-0.42531721],\n",
      "       [ 0.49401505],\n",
      "       [ 0.35449763],\n",
      "       [-0.08395927],\n",
      "       [-0.1838602 ],\n",
      "       [-0.39107225],\n",
      "       [-0.57146629],\n",
      "       [ 1.53670944],\n",
      "       [ 0.22965097],\n",
      "       [ 0.09794317],\n",
      "       [ 0.02786795],\n",
      "       [-0.6048451 ],\n",
      "       [ 0.00572633],\n",
      "       [-0.12260524],\n",
      "       [ 0.60681909],\n",
      "       [-0.92182134],\n",
      "       [-0.23599754],\n",
      "       [ 0.09046925],\n",
      "       [ 0.33242898],\n",
      "       [ 0.24475665],\n",
      "       [ 0.17504159],\n",
      "       [-0.16497676],\n",
      "       [-1.67785426],\n",
      "       [ 0.83170574],\n",
      "       [-0.74821827],\n",
      "       [ 0.02302538],\n",
      "       [ 0.3707644 ],\n",
      "       [-0.35407382],\n",
      "       [ 0.08518242],\n",
      "       [-0.2735994 ],\n",
      "       [ 0.21842798],\n",
      "       [-0.22551664],\n",
      "       [ 0.00617615],\n",
      "       [ 0.12067444],\n",
      "       [-0.03811271],\n",
      "       [ 0.46816834],\n",
      "       [-0.01277115],\n",
      "       [ 0.76126034],\n",
      "       [ 0.90263427],\n",
      "       [ 1.01275362],\n",
      "       [ 0.00664666],\n",
      "       [ 0.10597088],\n",
      "       [-0.17835135],\n",
      "       [-0.83576828],\n",
      "       [ 0.07225467],\n",
      "       [-0.27729532],\n",
      "       [ 0.60093853],\n",
      "       [ 1.21538254],\n",
      "       [-0.88168005],\n",
      "       [ 0.05418875],\n",
      "       [-0.34782544],\n",
      "       [-0.18772492],\n",
      "       [-0.39335337],\n",
      "       [ 0.04724488],\n",
      "       [-0.17175257]]), 'b': array([0.28509528]), 'training_accuracy': array([0.89458055]), 'test_accuracy': array([0.84222222]), 'cost': [array(5.36019715), array(2.0739647), array(1.34520043), array(1.04676864), array(0.87690482), array(0.78637381), array(0.7232746), array(0.67463741), array(0.63496719), array(0.60032515), array(0.56905242), array(0.54039418), array(0.51396035), array(0.48955704), array(0.4669351), array(0.44576056), array(0.42585422), array(0.40721264), array(0.3898542), array(0.37374897)]}\n"
     ]
    }
   ],
   "source": [
    "print(d)"
   ]
  },
  {
   "cell_type": "code",
   "execution_count": 29,
   "metadata": {},
   "outputs": [
    {
     "data": {
      "text/plain": [
       "[array(4.63707609),\n",
       " array(2.34158766),\n",
       " array(1.55896858),\n",
       " array(1.2350938),\n",
       " array(1.03053153),\n",
       " array(0.89355641),\n",
       " array(0.80877064),\n",
       " array(0.75175186),\n",
       " array(0.71154683),\n",
       " array(0.68006969),\n",
       " array(0.65331493),\n",
       " array(0.62939023),\n",
       " array(0.60707841),\n",
       " array(0.58588883),\n",
       " array(0.56568213),\n",
       " array(0.54631638),\n",
       " array(0.52760645),\n",
       " array(0.50945449),\n",
       " array(0.49185382),\n",
       " array(0.47482712)]"
      ]
     },
     "execution_count": 29,
     "metadata": {},
     "output_type": "execute_result"
    }
   ],
   "source": [
    "d[\"cost\"]"
   ]
  },
  {
   "cell_type": "markdown",
   "metadata": {},
   "source": [
    "### 4.选做题"
   ]
  },
  {
   "cell_type": "markdown",
   "metadata": {},
   "source": [
    "Congratulations on building your first logistic regression model. It is your time to analyze it further."
   ]
  },
  {
   "cell_type": "markdown",
   "metadata": {},
   "source": [
    "##### 4.1 Observe the effect of learning rate on the leraning process.   \n",
    "Hits: plot the learning curve with different learning rate"
   ]
  },
  {
   "cell_type": "code",
   "execution_count": 30,
   "metadata": {},
   "outputs": [],
   "source": [
    "import matplotlib.pyplot as plt"
   ]
  },
  {
   "cell_type": "code",
   "execution_count": 31,
   "metadata": {},
   "outputs": [
    {
     "data": {
      "text/plain": [
       "[<matplotlib.lines.Line2D at 0x125d5278>]"
      ]
     },
     "execution_count": 31,
     "metadata": {},
     "output_type": "execute_result"
    },
    {
     "data": {
      "image/png": "[encoded data removed]",
      "text/plain": [
       "<Figure size 432x288 with 1 Axes>"
      ]
     },
     "metadata": {
      "needs_background": "light"
     },
     "output_type": "display_data"
    }
   ],
   "source": [
    "# loss 函数图像（不停下降的过程）\n",
    "plt.plot(range(len(d[\"cost\"])), d[\"cost\"])"
   ]
  },
  {
   "cell_type": "code",
   "execution_count": 32,
   "metadata": {},
   "outputs": [
    {
     "data": {
      "image/png": "[encoded data removed]",
      "text/plain": [
       "<Figure size 432x288 with 1 Axes>"
      ]
     },
     "metadata": {
      "needs_background": "light"
     },
     "output_type": "display_data"
    }
   ],
   "source": [
    "# 不同learning_rate 对应的 loss 函数图像\n",
    "for i in range(4):\n",
    "    r = 0.025-0.005*i\n",
    "    d = model(X_train, y_train, X_test, y_test, num_iterations = 2000, learning_rate = r,print_cost=False)\n",
    "    plt.plot(range(len(d[\"cost\"])), d[\"cost\"],label = 'learning_rate: '+ str(r))\n",
    "plt.legend()\n",
    "plt.show()"
   ]
  },
  {
   "cell_type": "markdown",
   "metadata": {},
   "source": [
    "从图中可以看出，当学习率（步长）变大时，会出现震荡现象（错过最优解）。但是在一定范围内，步长越大，学习效率越高，可以更快得到较小的值。（若想观察的效果明显，可将 learning_rate 的范围调大，取值丰富，变化会更加明显。）"
   ]
  },
  {
   "cell_type": "markdown",
   "metadata": {},
   "source": [
    "##### 4.2 Observe the effect of iteration_num on the test accuracy."
   ]
  },
  {
   "cell_type": "code",
   "execution_count": 43,
   "metadata": {},
   "outputs": [],
   "source": [
    "ay = []\n",
    "ax = []\n",
    "for i in range(10):\n",
    "    n = 200 * (i+1)\n",
    "    d = model(X_train, y_train, X_test, y_test, num_iterations = n, learning_rate = 1e-2,print_cost=False)\n",
    "    ay.append(d[\"test_accuracy\"])\n",
    "    ax.append(n)"
   ]
  },
  {
   "cell_type": "code",
   "execution_count": 45,
   "metadata": {},
   "outputs": [
    {
     "data": {
      "text/plain": [
       "[200, 400, 600, 800, 1000, 1200, 1400, 1600, 1800, 2000]"
      ]
     },
     "execution_count": 45,
     "metadata": {},
     "output_type": "execute_result"
    }
   ],
   "source": [
    "ax"
   ]
  },
  {
   "cell_type": "code",
   "execution_count": 46,
   "metadata": {},
   "outputs": [
    {
     "data": {
      "text/plain": [
       "[array([0.78444444]),\n",
       " array([0.79111111]),\n",
       " array([0.80222222]),\n",
       " array([0.84444444]),\n",
       " array([0.84222222]),\n",
       " array([0.84666667]),\n",
       " array([0.86444444]),\n",
       " array([0.84888889]),\n",
       " array([0.85333333]),\n",
       " array([0.83555556])]"
      ]
     },
     "execution_count": 46,
     "metadata": {},
     "output_type": "execute_result"
    }
   ],
   "source": [
    "ay"
   ]
  },
  {
   "cell_type": "code",
   "execution_count": 47,
   "metadata": {},
   "outputs": [
    {
     "data": {
      "text/plain": [
       "[<matplotlib.lines.Line2D at 0x1391a4e0>]"
      ]
     },
     "execution_count": 47,
     "metadata": {},
     "output_type": "execute_result"
    },
    {
     "data": {
      "image/png": "[encoded data removed]",
      "text/plain": [
       "<Figure size 432x288 with 1 Axes>"
      ]
     },
     "metadata": {
      "needs_background": "light"
     },
     "output_type": "display_data"
    }
   ],
   "source": [
    "plt.plot(ax, ay)"
   ]
  },
  {
   "cell_type": "markdown",
   "metadata": {},
   "source": [
    "可以看出随着迭代次数的增加，精确度整体是在提升，尤其是前期的时候。当迭代次数达到某个值后，精确度上升的没有那么明显了，并且还会出现精确值下降的情况，到后面基本趋于稳定，在某一范围，不会产生过大偏差。但是迭代次数过大会增加计算量，所以我们应该选取合适的迭代次数，或者设置阈值，当精确度到达某一值时，便停止迭代，这样可以降低不必要计算，提高模型效率。"
   ]
  },
  {
   "cell_type": "markdown",
   "metadata": {},
   "source": [
    "# Challenge ! ! !\n",
    "\n",
    "The original data have images labeled 0,1,2,3,4,5,6,7,8,9. In our logistic model, we only detect if the digit in the image is larger or smaller than 5. Now, Let's go for a more challenging problem. Try to use softmax function to build a model to recognize which digits (0,1,2,3,4,5,6,7,8,9) is in the image."
   ]
  },
  {
   "cell_type": "markdown",
   "metadata": {},
   "source": [
    "# Congratulations ! You have completed assigment 4. "
   ]
  },
  {
   "cell_type": "code",
   "execution_count": null,
   "metadata": {},
   "outputs": [],
   "source": []
  }
 ],
 "metadata": {
  "kernelspec": {
   "display_name": "Python 3",
   "language": "python",
   "name": "python3"
  },
  "language_info": {
   "codemirror_mode": {
    "name": "ipython",
    "version": 3
   },
   "file_extension": ".py",
   "mimetype": "text/x-python",
   "name": "python",
   "nbconvert_exporter": "python",
   "pygments_lexer": "ipython3",
   "version": "3.7.3"
  }
 },
 "nbformat": 4,
 "nbformat_minor": 2
}
