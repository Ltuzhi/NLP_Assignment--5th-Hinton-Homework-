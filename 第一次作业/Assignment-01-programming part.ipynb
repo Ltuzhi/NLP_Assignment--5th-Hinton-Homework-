{
 "cells": [
  {
   "cell_type": "markdown",
   "metadata": {},
   "source": [
    "## Lesson-01 Assignment 2"
   ]
  },
  {
   "cell_type": "markdown",
   "metadata": {},
   "source": [
    "## 编程实践部分 （持续更新）"
   ]
  },
  {
   "cell_type": "markdown",
   "metadata": {},
   "source": [
    "#### 1. 设计你自己的句子生成器"
   ]
  },
  {
   "cell_type": "markdown",
   "metadata": {},
   "source": [
    "如何生成句子是一个很经典的问题，从1940s开始，图灵提出机器智能的时候，就使用的是人类能不能流畅和计算机进行对话。和计算机对话的一个前提是，计算机能够生成语言。\n",
    "\n",
    "计算机如何能生成语言是一个经典但是又很复杂的问题。 我们课程上为大家介绍的是一种基于规则（Rule Based）的生成方法。该方法虽然提出的时间早，但是现在依然在很多地方能够大显身手。值得说明的是，现在很多很实用的算法，都是很久之前提出的，例如，二分查找提出于1940s, Dijstra算法提出于1960s 等等。"
   ]
  },
  {
   "cell_type": "markdown",
   "metadata": {},
   "source": [
    "在著名的电视剧，电影《西部世界》中，这些机器人们语言生成的方法就是使用的SyntaxTree生成语言的方法。"
   ]
  },
  {
   "cell_type": "markdown",
   "metadata": {},
   "source": [
    "在这一部分，需要首先定义自己的语言。 可以先想一个应用场景，然后在这个场景下，定义语法。例如：\n",
    "\n",
    "在西部世界里，一个”人类“的语言可以定义为：\n",
    "``` \n",
    "human = \"\"\"\n",
    "human = 自己 寻找 活动\n",
    "自己 = 我 | 俺 | 我们 \n",
    "寻找 = 看看 | 找找 | 想找点\n",
    "活动 = 乐子 | 玩的\n",
    "\"\"\"\n",
    "```\n",
    "\n",
    "一个“接待员”的语言可以定义为\n",
    "```\n",
    "host = \"\"\"\n",
    "host = 寒暄 报数 询问 业务相关 结尾 \n",
    "报数 = 我是 数字 号 ,\n",
    "数字 = 单个数字 | 数字 单个数字 \n",
    "单个数字 = 1 | 2 | 3 | 4 | 5 | 6 | 7 | 8 | 9 \n",
    "寒暄 = 称谓 打招呼 | 打招呼\n",
    "称谓 = 人称 ,\n",
    "人称 = 先生 | 女士 | 小朋友\n",
    "打招呼 = 你好 | 您好 \n",
    "询问 = 请问你要 | 您需要\n",
    "业务相关 = 玩玩 具体业务\n",
    "玩玩 = 耍一耍 | 玩一玩\n",
    "具体业务 = 喝酒 | 打牌 | 打猎 | 赌博\n",
    "结尾 = 吗？\"\"\"\n",
    "\n",
    "```\n",
    "\n",
    "\n"
   ]
  },
  {
   "cell_type": "markdown",
   "metadata": {},
   "source": [
    "### 语言环境介绍：\n",
    "\n",
    "  当今社会，人们的生活节奏越来越快，压力越来越大，所以常常感觉身心疲惫，有时还会遇到总也解决不了的困境。这个时候，往往一句鼓励的、表扬的或者肯定的话语，就会让人觉得倍感欣慰，感觉一切努力仍是值得的。所以现在也出现了一些“夸夸群”，某宝上甚至可以购买这类夸夸群，该群的目的就是里面的人会不停地夸奖顾客，用夸张的方式把顾客夸的天花乱坠，美曰“彩虹屁”。这种方式虽然夸张，但是从某种层面的反应出了人们渴求得到认可。所以该语法名为“夸夸语”，目的就是当你感觉到疲惫，难受，渴望被肯定的时候，让计算机生成一系列夸奖自己的语言，娱乐放松一下。\n",
    "\n",
    "有希望得到肯定的诉求，那么相反的，也会有想要听到严肃警醒的话语。生活中有着各种各样的诱惑，稍微一不注意，就会被欲望侵蚀，会阻碍我们向目标迈进，比如想要减肥的你，今天下班正好赶上公司聚餐，面对一大桌美味佳肴，你一定会动摇昨天想要减肥的心。又或者太过安逸的环境，就像是温水煮青蛙，你感觉不到危机的存在，却是一点点在消磨你的生命。这个时候，人们就会希望有人可以一巴掌把自己拍醒，通过严厉的警示话语，刺激和提醒自己，要经得起诱惑，要奋起直追，不可以像现在这样懒惰，不积极，没志向。所以诞生了该语法“警示语”，这是与“夸夸语”完全相反的存在，前者让人感觉如沐春风，后者感觉像是被人一棒子打醒。每个人每个阶段和状态不同，偶尔需要被夸奖，偶尔也需要被警示。"
   ]
  },
  {
   "cell_type": "markdown",
   "metadata": {},
   "source": [
    "定义语法：\n",
    "\n",
    "第一个语法："
   ]
  },
  {
   "cell_type": "code",
   "execution_count": 6,
   "metadata": {},
   "outputs": [],
   "source": [
    "praise_rules = '''\n",
    "praise sb. -> name degrees praise tail over\n",
    "name -> 你 | 这 | 亲 | 小仙女 | 小可爱 | 小姐姐 | 小哥哥 | 小姑娘 | 小伙子 | 亲爱的\n",
    "degrees -> degree degrees | degree\n",
    "degree -> 很 | 非常 | 真 | 太 | 真的 | 真是 | 简直\n",
    "praise -> 棒 | 美 | 帅 | 厉害 | 不错 | 可爱 | 聪明 | 机智 | 漂亮 | 优秀 | 能干 | 辛苦\n",
    "tail ->   | 呀 | 啦 | 了 | 哦 | 啊\n",
    "over -> 。 | ！ | ~\n",
    "'''"
   ]
  },
  {
   "cell_type": "markdown",
   "metadata": {},
   "source": [
    "第二个语法："
   ]
  },
  {
   "cell_type": "code",
   "execution_count": 8,
   "metadata": {},
   "outputs": [],
   "source": [
    "caution_rules = '''\n",
    "caution sb. -> names degree caution over\n",
    "names -> name names | name\n",
    "name -> 你 | 喂 | 猪头 | 同学 | 姑娘 | 先生 | 小姐 | 大懒猪 | 大胖子 | 瞌睡虫 | 特困生 | 大笨蛋\n",
    "degree -> 该 | 要 | 赶快 | 应该 | 真该 | 快点 | 需要\n",
    "caution -> 醒醒 | 别吃 | 减肥 | 喝水 | 上进 | 学习 | 工作 | 早睡 | 锻炼 | 敲代码 | 提高效率\n",
    "over -> 了 | ！\n",
    "'''"
   ]
  },
  {
   "cell_type": "code",
   "execution_count": 21,
   "metadata": {},
   "outputs": [],
   "source": [
    "def get_generation_by_gram(grammar_str: str, target, stmt_split='->', expr_split='|'):\n",
    "\n",
    "    rules = dict() # key is the @statement, value is @expression\n",
    "    for line in grammar_str.split('\\n'):\n",
    "        if not line: continue\n",
    "        # 跳过空白行\n",
    "        # print(line)\n",
    "        stmt, expr = line.split(stmt_split) # 分隔 statement 和 expression\n",
    "    \n",
    "        rules[stmt.strip()] = expr.split(expr_split) # 分隔 express 中的词\n",
    "    \n",
    "    generated = generate(rules, target=target)\n",
    "    \n",
    "    return generated"
   ]
  },
  {
   "cell_type": "code",
   "execution_count": 19,
   "metadata": {},
   "outputs": [],
   "source": [
    "import random"
   ]
  },
  {
   "cell_type": "code",
   "execution_count": 17,
   "metadata": {},
   "outputs": [],
   "source": [
    "def generate(grammar_rule, target):\n",
    "    if target in grammar_rule: # names or degrees\n",
    "        candidates = grammar_rule[target]  # ['name names', 'name']\n",
    "        candidate = random.choice(candidates) #'name names', 'name'\n",
    "        return ''.join(generate(grammar_rule, target=c.strip()) for c in candidate.split())\n",
    "    else:\n",
    "        return target"
   ]
  },
  {
   "cell_type": "code",
   "execution_count": 61,
   "metadata": {
    "scrolled": true
   },
   "outputs": [
    {
     "data": {
      "text/plain": [
       "'亲爱的非常不错啦~'"
      ]
     },
     "execution_count": 61,
     "metadata": {},
     "output_type": "execute_result"
    }
   ],
   "source": [
    "get_generation_by_gram(praise_rules,target='praise sb.')"
   ]
  },
  {
   "cell_type": "code",
   "execution_count": 74,
   "metadata": {},
   "outputs": [],
   "source": [
    "def generate_n(num: int, grammar_name, grammer_target:str): # 将generate扩展，使其能够生成n个句子\n",
    "    for n in range(num):\n",
    "        print(get_generation_by_gram(grammar_name,target=grammer_target))\n",
    "    pass"
   ]
  },
  {
   "cell_type": "code",
   "execution_count": 78,
   "metadata": {},
   "outputs": [
    {
     "name": "stdout",
     "output_type": "stream",
     "text": [
      "你简直漂亮了。\n",
      "小仙女真厉害！\n",
      "小仙女太真是简直真是真的很优秀啊。\n",
      "这简直美啊！\n",
      "小可爱非常帅啦~\n",
      "小仙女真的真不错啊~\n",
      "亲爱的真是真帅啊~\n",
      "这非常非常真真是很真真的机智了~\n",
      "亲爱的真是厉害呀！\n",
      "小哥哥很真是很机智哦。\n"
     ]
    }
   ],
   "source": [
    "generate_n(10,praise_rules,'praise sb.') # 打印 10 个夸夸句"
   ]
  },
  {
   "cell_type": "code",
   "execution_count": 79,
   "metadata": {},
   "outputs": [
    {
     "name": "stdout",
     "output_type": "stream",
     "text": [
      "喂喂姑娘先生该喝水了\n",
      "猪头姑娘大笨蛋先生应该喝水！\n",
      "大笨蛋应该喝水了\n",
      "瞌睡虫大懒猪真该醒醒！\n",
      "同学大笨蛋猪头应该喝水！\n",
      "姑娘瞌睡虫喂同学赶快敲代码了\n",
      "你你需要上进！\n",
      "喂同学需要醒醒！\n",
      "大胖子该喝水了\n",
      "小姐该减肥了\n"
     ]
    }
   ],
   "source": [
    "generate_n(10,caution_rules,'caution sb.') # 打印 10 个警示句"
   ]
  },
  {
   "cell_type": "markdown",
   "metadata": {},
   "source": [
    "-----"
   ]
  },
  {
   "cell_type": "markdown",
   "metadata": {},
   "source": [
    "#### 2. 使用新数据源完成语言模型的训练"
   ]
  },
  {
   "cell_type": "markdown",
   "metadata": {},
   "source": [
    "按照我们上文中定义的`prob_2`函数，我们更换一个文本数据源，获得新的Language Model:\n",
    "\n",
    "1. 下载文本数据集（你可以在以下数据集中任选一个，也可以两个都使用）\n",
    "    + 可选数据集1，保险行业问询对话集： https://github.com/Computing-Intelligence/insuranceqa-corpus-zh/raw/release/corpus/pool/train.txt.gz\n",
    "    + 可选数据集2：豆瓣评论数据集：https://github.com/Computing-Intelligence/datasource/raw/master/movie_comments.csv\n",
    "2. 修改代码，获得新的**2-gram**语言模型\n",
    "    + 进行文本清洗，获得所有的纯文本\n",
    "    + 将这些文本进行切词\n",
    "    + 送入之前定义的语言模型中，判断文本的合理程度"
   ]
  },
  {
   "cell_type": "markdown",
   "metadata": {},
   "source": [
    "> "
   ]
  },
  {
   "cell_type": "markdown",
   "metadata": {},
   "source": [
    "#### 3. 获得最优质的的语言"
   ]
  },
  {
   "cell_type": "markdown",
   "metadata": {},
   "source": [
    "当我们能够生成随机的语言并且能判断之后，我们就可以生成更加合理的语言了。请定义 generate_best 函数，该函数输入一个语法 + 语言模型，能够生成**n**个句子，并能选择一个最合理的句子: \n",
    "\n"
   ]
  },
  {
   "cell_type": "markdown",
   "metadata": {},
   "source": [
    "提示，要实现这个函数，你需要Python的sorted函数"
   ]
  },
  {
   "cell_type": "code",
   "execution_count": 13,
   "metadata": {},
   "outputs": [
    {
     "data": {
      "text/plain": [
       "[1, 2, 3, 5]"
      ]
     },
     "execution_count": 13,
     "metadata": {},
     "output_type": "execute_result"
    }
   ],
   "source": [
    "sorted([1, 3, 5, 2])"
   ]
  },
  {
   "cell_type": "markdown",
   "metadata": {},
   "source": [
    "这个函数接受一个参数key，这个参数接受一个函数作为输入，例如"
   ]
  },
  {
   "cell_type": "code",
   "execution_count": 15,
   "metadata": {},
   "outputs": [
    {
     "data": {
      "text/plain": [
       "[(1, 4), (2, 5), (4, 4), (5, 0)]"
      ]
     },
     "execution_count": 15,
     "metadata": {},
     "output_type": "execute_result"
    }
   ],
   "source": [
    "sorted([(2, 5), (1, 4), (5, 0), (4, 4)], key=lambda x: x[0])"
   ]
  },
  {
   "cell_type": "markdown",
   "metadata": {},
   "source": [
    "能够让list按照第0个元素进行排序."
   ]
  },
  {
   "cell_type": "code",
   "execution_count": 16,
   "metadata": {},
   "outputs": [
    {
     "data": {
      "text/plain": [
       "[(5, 0), (1, 4), (4, 4), (2, 5)]"
      ]
     },
     "execution_count": 16,
     "metadata": {},
     "output_type": "execute_result"
    }
   ],
   "source": [
    "sorted([(2, 5), (1, 4), (5, 0), (4, 4)], key=lambda x: x[1])"
   ]
  },
  {
   "cell_type": "markdown",
   "metadata": {},
   "source": [
    "能够让list按照第1个元素进行排序."
   ]
  },
  {
   "cell_type": "code",
   "execution_count": 17,
   "metadata": {},
   "outputs": [
    {
     "data": {
      "text/plain": [
       "[(2, 5), (1, 4), (4, 4), (5, 0)]"
      ]
     },
     "execution_count": 17,
     "metadata": {},
     "output_type": "execute_result"
    }
   ],
   "source": [
    "sorted([(2, 5), (1, 4), (5, 0), (4, 4)], key=lambda x: x[1], reverse=True)"
   ]
  },
  {
   "cell_type": "markdown",
   "metadata": {},
   "source": [
    "能够让list按照第1个元素进行排序, 但是是递减的顺序。"
   ]
  },
  {
   "cell_type": "markdown",
   "metadata": {},
   "source": [
    ">"
   ]
  },
  {
   "cell_type": "code",
   "execution_count": 20,
   "metadata": {},
   "outputs": [],
   "source": [
    "def generate_best(): # you code here\n",
    "    pass"
   ]
  },
  {
   "cell_type": "markdown",
   "metadata": {},
   "source": [
    "好了，现在我们实现了自己的第一个AI模型，这个模型能够生成比较接近于人类的语言。"
   ]
  },
  {
   "cell_type": "markdown",
   "metadata": {},
   "source": [
    ">"
   ]
  },
  {
   "cell_type": "markdown",
   "metadata": {},
   "source": [
    "Q: 这个模型有什么问题？ 你准备如何提升？ "
   ]
  },
  {
   "cell_type": "markdown",
   "metadata": {},
   "source": [
    "Ans:"
   ]
  },
  {
   "cell_type": "markdown",
   "metadata": {},
   "source": [
    ">"
   ]
  }
 ],
 "metadata": {
  "kernelspec": {
   "display_name": "Python 3",
   "language": "python",
   "name": "python3"
  },
  "language_info": {
   "codemirror_mode": {
    "name": "ipython",
    "version": 3
   },
   "file_extension": ".py",
   "mimetype": "text/x-python",
   "name": "python",
   "nbconvert_exporter": "python",
   "pygments_lexer": "ipython3",
   "version": "3.7.3"
  }
 },
 "nbformat": 4,
 "nbformat_minor": 2
}
