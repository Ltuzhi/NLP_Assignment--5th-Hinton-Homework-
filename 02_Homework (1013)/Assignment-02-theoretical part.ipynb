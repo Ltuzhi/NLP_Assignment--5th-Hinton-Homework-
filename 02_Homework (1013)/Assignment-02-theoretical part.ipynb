{
 "cells": [
  {
   "cell_type": "markdown",
   "metadata": {},
   "source": [
    "# Assignment 2- 理论部分"
   ]
  },
  {
   "cell_type": "markdown",
   "metadata": {},
   "source": [
    "#### 2. 回答以下理论题目"
   ]
  },
  {
   "cell_type": "markdown",
   "metadata": {},
   "source": [
    "###       < 评阅点 >： 答案是否正确完整"
   ]
  },
  {
   "cell_type": "markdown",
   "metadata": {},
   "source": [
    "###### 2.1 What conditions are required to make the BFS return the optimal solution ?"
   ]
  },
  {
   "cell_type": "markdown",
   "metadata": {},
   "source": [
    "ans:\n",
    "    需要设置最优条件，比如路径长短或者根据每个节点的权重（花费代价）来计算，寻找最优解，具体两个条件如下（摘自课上PPT）：\n",
    "    \n",
    "    1. All costs between two nodes are positive or zero(两点之间的cost是非负数)\n",
    "    2. Sort the list used to maintain the searching history in every iteration(在每次迭代中都要对搜索历史记录的列表进行排序)"
   ]
  },
  {
   "cell_type": "markdown",
   "metadata": {},
   "source": [
    "##### 2.2 Is there a way to make DFS find the optimal solution ? (You may need to read some material about iterative DFS)"
   ]
  },
  {
   "cell_type": "markdown",
   "metadata": {},
   "source": [
    "ans:\n",
    "    传统DFS在每次一次迭代都会判断最后一个节点是否是终点，若是，就停止搜索。若想要DFS得到最优解，则需要在每次迭代时，先进行判断是否到达终点，若到达，则计算这条路径的数值（cost），并和已有cost进行对比，若小于已有cost，则cost更新，并记录该路线，若大于等于已有cost，则不做更新，继续进行深度遍历，直到所有节点都遍历完，便结束搜索，输出最优路线。"
   ]
  },
  {
   "cell_type": "markdown",
   "metadata": {},
   "source": [
    "##### 2.3 In what conditions BFS is a better choice than DFS and vice versa ?"
   ]
  },
  {
   "cell_type": "markdown",
   "metadata": {},
   "source": [
    "ans:\n",
    "    1. BFS 优于 DFS：在寻找最优解时，BFS 能更快更准确的找到最优解，而 DFS 改进后虽然可以得到最优解，但是花费的时间要比 BFS长。\n",
    "    2. DFS 优于 BFS：当节点比较多，层次比较深的时候， DFS 比 BFS 更快找到一条路径，也大大降低了存储空间。 "
   ]
  },
  {
   "cell_type": "markdown",
   "metadata": {},
   "source": [
    "##### 2.4 When can we use machine learning ?"
   ]
  },
  {
   "cell_type": "markdown",
   "metadata": {},
   "source": [
    "ans:\n",
    "    机器学习是一种通过编程让计算机能从一堆数据中发现规律，进行“学习”，并对数据中的结果采取相应措施。通常分为两大类：分类和回归。\n",
    "    什么情况下我们要使用机器学习？\n",
    "    当需要进行大量手工调整或需要拥有长串规则才能解决的问题\n",
    "    并且机器学习可以解决问题复杂，不确定使用什么算法时，机器学习可以给出一个较好的答案\n",
    "    机器学习相对传统编程方法而言，其优势在于首先可以通过机器学习算法简化代码，提高代码的执行能力，其次对于采用传统方法无法解决的问题可以通过机器学习技术找到一个解决方案。再者，机器学习可以适应新的数据的变化，就是可以根据环境的不同实现系统个性化。最后，可以通过机器学习算法从海量的数据中寻找数据的潜在的规律和价值。"
   ]
  },
  {
   "cell_type": "markdown",
   "metadata": {},
   "source": [
    "##### 2.5 What is the gradient of a function ?"
   ]
  },
  {
   "cell_type": "markdown",
   "metadata": {},
   "source": [
    "ans:\n",
    "    函数的梯度是什么？\n",
    "    梯度的本身是一个向量（矢量），表示某一函数在该点处的方向导数沿着该方向取得最大值，即函数在该点处沿着该方向（此梯度的方向）变化最快，变化率最大（为该梯度的模）。（百度百科）\n",
    "    既某点在该函数上变化最快的方向。"
   ]
  },
  {
   "cell_type": "markdown",
   "metadata": {},
   "source": [
    "##### 2.6 How can we find the maximum value of a function using the information of gradient ?"
   ]
  },
  {
   "cell_type": "markdown",
   "metadata": {},
   "source": [
    "ans:\n",
    "    根据梯度下降法的定义，该方法求的是函数的最小值，若目标是求函数最大值，可以在目标函数中加一个负号，这样求最大值就变成了求最小值问题。"
   ]
  }
 ],
 "metadata": {
  "kernelspec": {
   "display_name": "Python 3",
   "language": "python",
   "name": "python3"
  },
  "language_info": {
   "codemirror_mode": {
    "name": "ipython",
    "version": 3
   },
   "file_extension": ".py",
   "mimetype": "text/x-python",
   "name": "python",
   "nbconvert_exporter": "python",
   "pygments_lexer": "ipython3",
   "version": "3.7.3"
  }
 },
 "nbformat": 4,
 "nbformat_minor": 2
}
